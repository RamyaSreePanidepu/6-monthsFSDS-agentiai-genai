{
 "cells": [
  {
   "cell_type": "code",
   "execution_count": 1,
   "id": "16f17b1b-ed5a-484a-9f65-eda3d413391b",
   "metadata": {},
   "outputs": [
    {
     "data": {
      "text/plain": [
       "[]"
      ]
     },
     "execution_count": 1,
     "metadata": {},
     "output_type": "execute_result"
    }
   ],
   "source": [
    "l=[]\n",
    "l"
   ]
  },
  {
   "cell_type": "code",
   "execution_count": 2,
   "id": "702f73eb-b80d-4c6c-acad-4eaf273d9adc",
   "metadata": {},
   "outputs": [
    {
     "data": {
      "text/plain": [
       "list"
      ]
     },
     "execution_count": 2,
     "metadata": {},
     "output_type": "execute_result"
    }
   ],
   "source": [
    "type(l)"
   ]
  },
  {
   "cell_type": "code",
   "execution_count": 3,
   "id": "832123d7-d1ff-41a0-a769-f0bc77c0e6ca",
   "metadata": {},
   "outputs": [
    {
     "name": "stdout",
     "output_type": "stream",
     "text": [
      "<class 'list'>\n"
     ]
    }
   ],
   "source": [
    "print(type(l))"
   ]
  },
  {
   "cell_type": "code",
   "execution_count": 4,
   "id": "d3501d54-233f-44c1-9409-1f3e216a36e9",
   "metadata": {},
   "outputs": [
    {
     "data": {
      "text/plain": [
       "[10]"
      ]
     },
     "execution_count": 4,
     "metadata": {},
     "output_type": "execute_result"
    }
   ],
   "source": [
    "l.append(10)\n",
    "l"
   ]
  },
  {
   "cell_type": "code",
   "execution_count": 5,
   "id": "839a3ab5-77cc-4fb0-80a4-667358665e7c",
   "metadata": {},
   "outputs": [
    {
     "data": {
      "text/plain": [
       "[10, 10, 20, 30, 40, 50]"
      ]
     },
     "execution_count": 5,
     "metadata": {},
     "output_type": "execute_result"
    }
   ],
   "source": [
    "l.append(10)\n",
    "l.append(20)\n",
    "l.append(30)\n",
    "l.append(40)\n",
    "l.append(50)\n",
    "l"
   ]
  },
  {
   "cell_type": "code",
   "execution_count": 6,
   "id": "bb9e839c-3214-42da-bd4e-4ac02ead690d",
   "metadata": {},
   "outputs": [
    {
     "data": {
      "text/plain": [
       "6"
      ]
     },
     "execution_count": 6,
     "metadata": {},
     "output_type": "execute_result"
    }
   ],
   "source": [
    "len(l)"
   ]
  },
  {
   "cell_type": "code",
   "execution_count": 7,
   "id": "c1f66211-d689-4b56-a21f-4361d77523b0",
   "metadata": {},
   "outputs": [
    {
     "ename": "TypeError",
     "evalue": "list.append() takes exactly one argument (2 given)",
     "output_type": "error",
     "traceback": [
      "\u001b[1;31m---------------------------------------------------------------------------\u001b[0m",
      "\u001b[1;31mTypeError\u001b[0m                                 Traceback (most recent call last)",
      "Cell \u001b[1;32mIn[7], line 1\u001b[0m\n\u001b[1;32m----> 1\u001b[0m l\u001b[38;5;241m.\u001b[39mappend(\u001b[38;5;241m10\u001b[39m,\u001b[38;5;241m20\u001b[39m)\n\u001b[0;32m      2\u001b[0m l\n",
      "\u001b[1;31mTypeError\u001b[0m: list.append() takes exactly one argument (2 given)"
     ]
    }
   ],
   "source": [
    "l.append(10,20)  # allows only one argument\n",
    "l"
   ]
  },
  {
   "cell_type": "code",
   "execution_count": 8,
   "id": "cf92866f-b046-44d6-9a5c-24087e842c90",
   "metadata": {},
   "outputs": [
    {
     "data": {
      "text/plain": [
       "[10, 10, 20, 30, 40, 50]"
      ]
     },
     "execution_count": 8,
     "metadata": {},
     "output_type": "execute_result"
    }
   ],
   "source": [
    "l"
   ]
  },
  {
   "cell_type": "code",
   "execution_count": 9,
   "id": "e107a857-088e-44b1-a603-538bb5947317",
   "metadata": {},
   "outputs": [
    {
     "data": {
      "text/plain": [
       "10"
      ]
     },
     "execution_count": 9,
     "metadata": {},
     "output_type": "execute_result"
    }
   ],
   "source": [
    "l[0]"
   ]
  },
  {
   "cell_type": "code",
   "execution_count": 10,
   "id": "1e3289af-c318-4d48-a8d9-e99e291fdd0c",
   "metadata": {},
   "outputs": [],
   "source": [
    "l[0]=100"
   ]
  },
  {
   "cell_type": "code",
   "execution_count": 11,
   "id": "5eb21501-fcb5-41cd-8008-5656f5696ef7",
   "metadata": {},
   "outputs": [
    {
     "data": {
      "text/plain": [
       "[100, 10, 20, 30, 40, 50]"
      ]
     },
     "execution_count": 11,
     "metadata": {},
     "output_type": "execute_result"
    }
   ],
   "source": [
    "l"
   ]
  },
  {
   "cell_type": "code",
   "execution_count": 12,
   "id": "9fd019f8-f524-4bfe-b395-f9b949ad7e0b",
   "metadata": {},
   "outputs": [
    {
     "data": {
      "text/plain": [
       "[100, 10, 20, 30, 40, -50]"
      ]
     },
     "execution_count": 12,
     "metadata": {},
     "output_type": "execute_result"
    }
   ],
   "source": [
    "l[-1]=-50\n",
    "l"
   ]
  },
  {
   "cell_type": "code",
   "execution_count": 13,
   "id": "9d05069f-409b-4807-bdad-59a0d68b4604",
   "metadata": {},
   "outputs": [],
   "source": [
    "l1=l.copy()"
   ]
  },
  {
   "cell_type": "code",
   "execution_count": 14,
   "id": "529367b2-7632-4092-bcf6-469f7f986e5c",
   "metadata": {},
   "outputs": [
    {
     "data": {
      "text/plain": [
       "[100, 10, 20, 30, 40, -50]"
      ]
     },
     "execution_count": 14,
     "metadata": {},
     "output_type": "execute_result"
    }
   ],
   "source": [
    "l1"
   ]
  },
  {
   "cell_type": "code",
   "execution_count": 15,
   "id": "b16bccae-dce7-4975-860c-0bc5f7bd65fc",
   "metadata": {},
   "outputs": [
    {
     "data": {
      "text/plain": [
       "[100, 10, 20, 30, 40, -50]"
      ]
     },
     "execution_count": 15,
     "metadata": {},
     "output_type": "execute_result"
    }
   ],
   "source": [
    "l1"
   ]
  },
  {
   "cell_type": "code",
   "execution_count": 17,
   "id": "e49812f8-1a43-47ac-8150-250972bbcf2e",
   "metadata": {},
   "outputs": [
    {
     "name": "stdout",
     "output_type": "stream",
     "text": [
      "[100, 10, 20, 30, 40, -50]\n",
      "[100, 10, 20, 30, 40, -50]\n"
     ]
    }
   ],
   "source": [
    "print(l)\n",
    "print(l1)"
   ]
  },
  {
   "cell_type": "code",
   "execution_count": 19,
   "id": "bb4c0ad2-03b4-4760-a464-7b61368df5f3",
   "metadata": {},
   "outputs": [
    {
     "data": {
      "text/plain": [
       "True"
      ]
     },
     "execution_count": 19,
     "metadata": {},
     "output_type": "execute_result"
    }
   ],
   "source": [
    "l==l1"
   ]
  },
  {
   "cell_type": "code",
   "execution_count": 20,
   "id": "d1422dde-e133-4867-8bef-43729d9d6033",
   "metadata": {},
   "outputs": [
    {
     "data": {
      "text/plain": [
       "False"
      ]
     },
     "execution_count": 20,
     "metadata": {},
     "output_type": "execute_result"
    }
   ],
   "source": [
    "l!=l1"
   ]
  },
  {
   "cell_type": "code",
   "execution_count": 21,
   "id": "42a3b05c-f2af-4fc3-9b6b-314662c9def9",
   "metadata": {},
   "outputs": [
    {
     "data": {
      "text/plain": [
       "True"
      ]
     },
     "execution_count": 21,
     "metadata": {},
     "output_type": "execute_result"
    }
   ],
   "source": [
    "id(l)==id(l1)"
   ]
  },
  {
   "cell_type": "code",
   "execution_count": 30,
   "id": "bbc74c2c-8276-480e-9ffe-805b7ba6353d",
   "metadata": {},
   "outputs": [
    {
     "data": {
      "text/plain": [
       "[100, 10, 20, 30, 40, -50]"
      ]
     },
     "execution_count": 30,
     "metadata": {},
     "output_type": "execute_result"
    }
   ],
   "source": [
    "l"
   ]
  },
  {
   "cell_type": "code",
   "execution_count": 34,
   "id": "5231fb84-bb4d-44fa-a98e-4c6a32049f1d",
   "metadata": {},
   "outputs": [],
   "source": [
    "l1=l.copy()"
   ]
  },
  {
   "cell_type": "code",
   "execution_count": 35,
   "id": "ac91a269-51c1-4d10-ab5f-6f11edc0c249",
   "metadata": {},
   "outputs": [
    {
     "data": {
      "text/plain": [
       "[100, 10, 20, 30, 40, -50]"
      ]
     },
     "execution_count": 35,
     "metadata": {},
     "output_type": "execute_result"
    }
   ],
   "source": [
    "l1"
   ]
  },
  {
   "cell_type": "code",
   "execution_count": 37,
   "id": "d95e4687-af61-4343-ace7-9d87ce0b73b9",
   "metadata": {},
   "outputs": [
    {
     "name": "stdout",
     "output_type": "stream",
     "text": [
      "[100, 10, 20, 30, 40, -50]\n",
      "[100, 10, 20, 30, 40, -50]\n"
     ]
    }
   ],
   "source": [
    "print(l)\n",
    "print(l1)"
   ]
  },
  {
   "cell_type": "code",
   "execution_count": 38,
   "id": "64cc7f37-5d6b-40b9-9438-74ad04470d23",
   "metadata": {},
   "outputs": [],
   "source": [
    "l1.clear()"
   ]
  },
  {
   "cell_type": "code",
   "execution_count": 39,
   "id": "e0efbf34-4c2a-42eb-acc9-41441a019a2f",
   "metadata": {},
   "outputs": [
    {
     "data": {
      "text/plain": [
       "[]"
      ]
     },
     "execution_count": 39,
     "metadata": {},
     "output_type": "execute_result"
    }
   ],
   "source": [
    "l1"
   ]
  },
  {
   "cell_type": "code",
   "execution_count": 40,
   "id": "34e9b0d8-2045-4177-85a7-2d78c61e3c0d",
   "metadata": {},
   "outputs": [],
   "source": [
    "del l1"
   ]
  },
  {
   "cell_type": "code",
   "execution_count": 41,
   "id": "26758da2-da30-48c9-b595-bed45a3633b0",
   "metadata": {},
   "outputs": [
    {
     "ename": "NameError",
     "evalue": "name 'l1' is not defined",
     "output_type": "error",
     "traceback": [
      "\u001b[1;31m---------------------------------------------------------------------------\u001b[0m",
      "\u001b[1;31mNameError\u001b[0m                                 Traceback (most recent call last)",
      "Cell \u001b[1;32mIn[41], line 1\u001b[0m\n\u001b[1;32m----> 1\u001b[0m l1\n",
      "\u001b[1;31mNameError\u001b[0m: name 'l1' is not defined"
     ]
    }
   ],
   "source": [
    "l1"
   ]
  },
  {
   "cell_type": "code",
   "execution_count": 42,
   "id": "e23601ae-40ba-4d92-af0c-10d15ad3f73a",
   "metadata": {},
   "outputs": [
    {
     "data": {
      "text/plain": [
       "[100, 10, 20, 30, 40, -50]"
      ]
     },
     "execution_count": 42,
     "metadata": {},
     "output_type": "execute_result"
    }
   ],
   "source": [
    "l"
   ]
  },
  {
   "cell_type": "code",
   "execution_count": 44,
   "id": "4ed680fd-7cb4-4b9c-b9b4-2b199c40caf2",
   "metadata": {},
   "outputs": [],
   "source": [
    "l2=[]"
   ]
  },
  {
   "cell_type": "code",
   "execution_count": 45,
   "id": "af968841-81db-44f4-a0ed-b1de87006104",
   "metadata": {},
   "outputs": [],
   "source": [
    "l2.append(9)\n",
    "l2.append('nit')\n",
    "l2.append(1+2j)\n",
    "l2.append(9.3)"
   ]
  },
  {
   "cell_type": "code",
   "execution_count": 46,
   "id": "41bd6d36-8296-4d0f-94e5-3cda74cff165",
   "metadata": {},
   "outputs": [
    {
     "data": {
      "text/plain": [
       "[9, 'nit', (1+2j), 9.3]"
      ]
     },
     "execution_count": 46,
     "metadata": {},
     "output_type": "execute_result"
    }
   ],
   "source": [
    "l2 "
   ]
  },
  {
   "cell_type": "code",
   "execution_count": 47,
   "id": "faa1b35a-f44b-4ff1-95e1-fedd7eecf481",
   "metadata": {},
   "outputs": [
    {
     "name": "stdout",
     "output_type": "stream",
     "text": [
      "[100, 10, 20, 30, 40, -50]\n",
      "[9, 'nit', (1+2j), 9.3]\n"
     ]
    }
   ],
   "source": [
    "print(l)\n",
    "print(l2)"
   ]
  },
  {
   "cell_type": "code",
   "execution_count": 48,
   "id": "4926b0c3-3897-4c77-ad17-2fa9aa0799e6",
   "metadata": {},
   "outputs": [
    {
     "data": {
      "text/plain": [
       "0"
      ]
     },
     "execution_count": 48,
     "metadata": {},
     "output_type": "execute_result"
    }
   ],
   "source": [
    "l.index(100)"
   ]
  },
  {
   "cell_type": "code",
   "execution_count": 49,
   "id": "b13f1f4d-5ffb-4328-a69e-edc8d738fb72",
   "metadata": {},
   "outputs": [
    {
     "data": {
      "text/plain": [
       "3"
      ]
     },
     "execution_count": 49,
     "metadata": {},
     "output_type": "execute_result"
    }
   ],
   "source": [
    "l2.index(9.3)"
   ]
  },
  {
   "cell_type": "code",
   "execution_count": 50,
   "id": "26e4e3f9-8562-4959-b99c-802139a983eb",
   "metadata": {},
   "outputs": [
    {
     "name": "stdout",
     "output_type": "stream",
     "text": [
      "n\n",
      "i\n",
      "t\n"
     ]
    }
   ],
   "source": [
    "print(l2[1][0])\n",
    "print(l2[1][1])\n",
    "print(l2[1][2])"
   ]
  },
  {
   "cell_type": "code",
   "execution_count": 51,
   "id": "25a4082f-d3f7-4068-897e-2352fa87ed08",
   "metadata": {},
   "outputs": [
    {
     "data": {
      "text/plain": [
       "[10]"
      ]
     },
     "execution_count": 51,
     "metadata": {},
     "output_type": "execute_result"
    }
   ],
   "source": [
    "l[1:2]"
   ]
  },
  {
   "cell_type": "code",
   "execution_count": 52,
   "id": "6d96ed55-1189-43ba-9988-cc54639b2ba8",
   "metadata": {},
   "outputs": [
    {
     "data": {
      "text/plain": [
       "[100, 10, 20, 30, 40, -50]"
      ]
     },
     "execution_count": 52,
     "metadata": {},
     "output_type": "execute_result"
    }
   ],
   "source": [
    "l[:]"
   ]
  },
  {
   "cell_type": "code",
   "execution_count": 53,
   "id": "12799854-e869-4fd8-9fb1-71029fd420db",
   "metadata": {},
   "outputs": [
    {
     "data": {
      "text/plain": [
       "[30, 40, -50]"
      ]
     },
     "execution_count": 53,
     "metadata": {},
     "output_type": "execute_result"
    }
   ],
   "source": [
    "l[3:]"
   ]
  },
  {
   "cell_type": "code",
   "execution_count": 54,
   "id": "412b7233-a00a-443d-8a8f-4a6155b39de6",
   "metadata": {},
   "outputs": [
    {
     "data": {
      "text/plain": [
       "[100, 10, 20, 30, 40, -50]"
      ]
     },
     "execution_count": 54,
     "metadata": {},
     "output_type": "execute_result"
    }
   ],
   "source": [
    "l[:10]"
   ]
  },
  {
   "cell_type": "code",
   "execution_count": 55,
   "id": "1305e437-af84-467e-836f-5d61fdb72572",
   "metadata": {},
   "outputs": [
    {
     "data": {
      "text/plain": [
       "[10, 40]"
      ]
     },
     "execution_count": 55,
     "metadata": {},
     "output_type": "execute_result"
    }
   ],
   "source": [
    "l[1:8:3]"
   ]
  },
  {
   "cell_type": "code",
   "execution_count": 56,
   "id": "413de64a-eafc-44aa-972d-9173223b7ff4",
   "metadata": {},
   "outputs": [
    {
     "data": {
      "text/plain": [
       "[9, 'nit', (1+2j), 9.3]"
      ]
     },
     "execution_count": 56,
     "metadata": {},
     "output_type": "execute_result"
    }
   ],
   "source": [
    "l2"
   ]
  },
  {
   "cell_type": "code",
   "execution_count": 62,
   "id": "3c4746a8-0a2c-49c3-9027-620598896a8a",
   "metadata": {},
   "outputs": [
    {
     "data": {
      "text/plain": [
       "[9, 'nit', (1+2j)]"
      ]
     },
     "execution_count": 62,
     "metadata": {},
     "output_type": "execute_result"
    }
   ],
   "source": [
    "l2[0:3:1]"
   ]
  },
  {
   "cell_type": "code",
   "execution_count": 63,
   "id": "552716cf-0538-4c85-8713-185da7058276",
   "metadata": {},
   "outputs": [
    {
     "data": {
      "text/plain": [
       "[100, 10, 20, 30, 40, -50]"
      ]
     },
     "execution_count": 63,
     "metadata": {},
     "output_type": "execute_result"
    }
   ],
   "source": [
    "l"
   ]
  },
  {
   "cell_type": "code",
   "execution_count": 67,
   "id": "ec46899c-4481-476f-bab2-f1edd2a8084f",
   "metadata": {},
   "outputs": [
    {
     "data": {
      "text/plain": [
       "[100, 10, 20, 30, 40, -50, 3, 3, 5]"
      ]
     },
     "execution_count": 67,
     "metadata": {},
     "output_type": "execute_result"
    }
   ],
   "source": [
    "l"
   ]
  },
  {
   "cell_type": "code",
   "execution_count": 68,
   "id": "1d615d72-5c2d-4246-853a-f7d324e15c25",
   "metadata": {},
   "outputs": [],
   "source": [
    "l.clear()"
   ]
  },
  {
   "cell_type": "code",
   "execution_count": 69,
   "id": "28aac00c-811a-4e39-a0c4-54ce447edbe4",
   "metadata": {},
   "outputs": [
    {
     "data": {
      "text/plain": [
       "[]"
      ]
     },
     "execution_count": 69,
     "metadata": {},
     "output_type": "execute_result"
    }
   ],
   "source": [
    "l"
   ]
  },
  {
   "cell_type": "code",
   "execution_count": 70,
   "id": "16877c81-29f1-4f7c-83ef-021d76aa4dae",
   "metadata": {},
   "outputs": [],
   "source": [
    "del l"
   ]
  },
  {
   "cell_type": "code",
   "execution_count": 71,
   "id": "1985d9ae-b761-474b-88a9-5a99e2fa0309",
   "metadata": {},
   "outputs": [
    {
     "ename": "NameError",
     "evalue": "name 'l' is not defined",
     "output_type": "error",
     "traceback": [
      "\u001b[1;31m---------------------------------------------------------------------------\u001b[0m",
      "\u001b[1;31mNameError\u001b[0m                                 Traceback (most recent call last)",
      "Cell \u001b[1;32mIn[71], line 1\u001b[0m\n\u001b[1;32m----> 1\u001b[0m l\n",
      "\u001b[1;31mNameError\u001b[0m: name 'l' is not defined"
     ]
    }
   ],
   "source": [
    "l"
   ]
  },
  {
   "cell_type": "code",
   "execution_count": 72,
   "id": "ca0380fa-f9b4-429d-8090-0051cc8c3696",
   "metadata": {},
   "outputs": [
    {
     "data": {
      "text/plain": [
       "[10, 20, 30, 40, 50]"
      ]
     },
     "execution_count": 72,
     "metadata": {},
     "output_type": "execute_result"
    }
   ],
   "source": [
    "l=[]\n",
    "l.append(10)\n",
    "l.append(20)\n",
    "l.append(30)\n",
    "l.append(40)\n",
    "l.append(50)\n",
    "l"
   ]
  },
  {
   "cell_type": "code",
   "execution_count": 73,
   "id": "4288180f-83a7-41b0-905e-83ebd8ad59fc",
   "metadata": {},
   "outputs": [],
   "source": [
    "l.insert(88,3)"
   ]
  },
  {
   "cell_type": "code",
   "execution_count": 74,
   "id": "14d1d51e-93a7-4885-b013-3d3ae3c93a62",
   "metadata": {},
   "outputs": [
    {
     "data": {
      "text/plain": [
       "[10, 20, 30, 40, 50, 3]"
      ]
     },
     "execution_count": 74,
     "metadata": {},
     "output_type": "execute_result"
    }
   ],
   "source": [
    "l"
   ]
  },
  {
   "cell_type": "code",
   "execution_count": 76,
   "id": "79567948-30f7-4524-bd90-9fa2dad89ac3",
   "metadata": {},
   "outputs": [
    {
     "data": {
      "text/plain": [
       "[10, 20, 30, 88, 88, 40, 50, 3]"
      ]
     },
     "execution_count": 76,
     "metadata": {},
     "output_type": "execute_result"
    }
   ],
   "source": [
    "l.insert(3,88)  # 3 is index position & 88 is called value\n",
    "l"
   ]
  },
  {
   "cell_type": "code",
   "execution_count": 77,
   "id": "77a62de2-7103-44ac-9a7e-9e5a69ab8f88",
   "metadata": {},
   "outputs": [
    {
     "data": {
      "text/plain": [
       "3"
      ]
     },
     "execution_count": 77,
     "metadata": {},
     "output_type": "execute_result"
    }
   ],
   "source": [
    "l.pop()"
   ]
  },
  {
   "cell_type": "code",
   "execution_count": 78,
   "id": "1bb9536b-12c0-4791-87b3-6d74b4c71466",
   "metadata": {},
   "outputs": [
    {
     "data": {
      "text/plain": [
       "[10, 20, 30, 88, 88, 40, 50]"
      ]
     },
     "execution_count": 78,
     "metadata": {},
     "output_type": "execute_result"
    }
   ],
   "source": [
    "l"
   ]
  },
  {
   "cell_type": "code",
   "execution_count": 79,
   "id": "97f88cfd-a301-4b8f-b64c-22db1d3b4fcc",
   "metadata": {},
   "outputs": [
    {
     "data": {
      "text/plain": [
       "[10, 20, 30, 88, 88, 40]"
      ]
     },
     "execution_count": 79,
     "metadata": {},
     "output_type": "execute_result"
    }
   ],
   "source": [
    "l.pop()\n",
    "l"
   ]
  },
  {
   "cell_type": "code",
   "execution_count": 80,
   "id": "311c6fac-94a8-45ef-aa21-0c8ba7504eab",
   "metadata": {},
   "outputs": [
    {
     "data": {
      "text/plain": [
       "[9, 'nit', (1+2j), 9.3]"
      ]
     },
     "execution_count": 80,
     "metadata": {},
     "output_type": "execute_result"
    }
   ],
   "source": [
    "l2"
   ]
  },
  {
   "cell_type": "code",
   "execution_count": 81,
   "id": "b95bb66a-dc5f-4b8b-b8a9-c74c8ae912a5",
   "metadata": {},
   "outputs": [
    {
     "data": {
      "text/plain": [
       "(1+2j)"
      ]
     },
     "execution_count": 81,
     "metadata": {},
     "output_type": "execute_result"
    }
   ],
   "source": [
    "l2.pop(2)"
   ]
  },
  {
   "cell_type": "code",
   "execution_count": 82,
   "id": "f5ce4fd4-623f-49cd-9fa6-bf64d1f763ba",
   "metadata": {},
   "outputs": [
    {
     "data": {
      "text/plain": [
       "[9, 'nit', 9.3]"
      ]
     },
     "execution_count": 82,
     "metadata": {},
     "output_type": "execute_result"
    }
   ],
   "source": [
    "l2"
   ]
  },
  {
   "cell_type": "code",
   "execution_count": 83,
   "id": "12148a09-38d2-43aa-9d33-2ba18f967980",
   "metadata": {},
   "outputs": [
    {
     "data": {
      "text/plain": [
       "[9, 9.3]"
      ]
     },
     "execution_count": 83,
     "metadata": {},
     "output_type": "execute_result"
    }
   ],
   "source": [
    "l2.remove('nit')\n",
    "l2"
   ]
  },
  {
   "cell_type": "markdown",
   "id": "e4c56404-7813-43b6-8844-d60bb5f63f51",
   "metadata": {},
   "source": [
    "# Task-7 (LIST)"
   ]
  },
  {
   "cell_type": "code",
   "execution_count": 95,
   "id": "09b71df4-a2cf-470f-a7f8-df1be95bcb3f",
   "metadata": {},
   "outputs": [
    {
     "ename": "SyntaxError",
     "evalue": "invalid syntax (149264931.py, line 1)",
     "output_type": "error",
     "traceback": [
      "\u001b[1;36m  Cell \u001b[1;32mIn[95], line 1\u001b[1;36m\u001b[0m\n\u001b[1;33m    a=\"my name is \"Ramya\"\"\u001b[0m\n\u001b[1;37m                   ^\u001b[0m\n\u001b[1;31mSyntaxError\u001b[0m\u001b[1;31m:\u001b[0m invalid syntax\n"
     ]
    }
   ],
   "source": [
    "a=\"my name is \"Ramya\"\" # double quotes is not allowed in string"
   ]
  },
  {
   "cell_type": "code",
   "execution_count": 96,
   "id": "39bb3277-cffa-45e4-9bb0-2ecbdd319912",
   "metadata": {},
   "outputs": [
    {
     "name": "stdout",
     "output_type": "stream",
     "text": [
      "my name is\"Ramya\"\n"
     ]
    }
   ],
   "source": [
    "a=\"my name is\\\"Ramya\\\"\" # using escape character to allow illegal characters\n",
    "print(a)"
   ]
  },
  {
   "cell_type": "code",
   "execution_count": 97,
   "id": "0aa068eb-a846-4b7d-bdb6-59b1257f8bd3",
   "metadata": {},
   "outputs": [
    {
     "data": {
      "text/plain": [
       "list"
      ]
     },
     "execution_count": 97,
     "metadata": {},
     "output_type": "execute_result"
    }
   ],
   "source": [
    "l=[]\n",
    "type(l)"
   ]
  },
  {
   "cell_type": "code",
   "execution_count": 98,
   "id": "9d18d318-3463-4d6b-8c44-19d09f023495",
   "metadata": {},
   "outputs": [
    {
     "name": "stdout",
     "output_type": "stream",
     "text": [
      "<class 'list'>\n"
     ]
    }
   ],
   "source": [
    "print(type(l))"
   ]
  },
  {
   "cell_type": "code",
   "execution_count": 99,
   "id": "bed7879b-3309-4430-9c1a-c9cfafc220d6",
   "metadata": {},
   "outputs": [],
   "source": [
    "l1=[1,2,3,4]  # interger values\n",
    "l2=[1.1,2.2,3.3,4.4] # float values\n",
    "l3=['hi','hello'] # string values\n",
    "l4=[10,1.1,'hi'] # mixed values\n",
    "l5=['hello',[10,20],[20,30]] # nested list \n",
    "l6=['hp',[10,20],{10,30}] "
   ]
  },
  {
   "cell_type": "code",
   "execution_count": 100,
   "id": "2089ada7-d556-4b51-87cd-a01e6640248a",
   "metadata": {},
   "outputs": [
    {
     "data": {
      "text/plain": [
       "3"
      ]
     },
     "execution_count": 100,
     "metadata": {},
     "output_type": "execute_result"
    }
   ],
   "source": [
    "len(l6)"
   ]
  },
  {
   "cell_type": "code",
   "execution_count": 101,
   "id": "2f39e772-e964-4f44-9536-9501fa73a417",
   "metadata": {},
   "outputs": [
    {
     "name": "stdout",
     "output_type": "stream",
     "text": [
      "4\n",
      "4\n",
      "2\n",
      "3\n",
      "3\n"
     ]
    }
   ],
   "source": [
    "print(len(l1))\n",
    "print(len(l2))\n",
    "print(len(l3))\n",
    "print(len(l4))\n",
    "print(len(l5))\n"
   ]
  },
  {
   "cell_type": "code",
   "execution_count": 107,
   "id": "6448fbf1-b6cc-4859-96f1-10ccdaaba32f",
   "metadata": {},
   "outputs": [
    {
     "data": {
      "text/plain": [
       "[1, 2, 3, 4]"
      ]
     },
     "execution_count": 107,
     "metadata": {},
     "output_type": "execute_result"
    }
   ],
   "source": [
    "l1"
   ]
  },
  {
   "cell_type": "code",
   "execution_count": 109,
   "id": "fb8780c8-bd29-425d-b981-dd6912a986ef",
   "metadata": {},
   "outputs": [
    {
     "data": {
      "text/plain": [
       "[1.1, 2.2, 3.3, 4.4]"
      ]
     },
     "execution_count": 109,
     "metadata": {},
     "output_type": "execute_result"
    }
   ],
   "source": [
    "l2"
   ]
  },
  {
   "cell_type": "code",
   "execution_count": 110,
   "id": "e2a85c9d-a290-4f9c-9d10-c755abf9cfc8",
   "metadata": {},
   "outputs": [
    {
     "data": {
      "text/plain": [
       "[10, 1.1, 'hi']"
      ]
     },
     "execution_count": 110,
     "metadata": {},
     "output_type": "execute_result"
    }
   ],
   "source": [
    "l4"
   ]
  },
  {
   "cell_type": "code",
   "execution_count": 111,
   "id": "a0477941-b609-4412-a6d4-dbdbbab33659",
   "metadata": {},
   "outputs": [
    {
     "data": {
      "text/plain": [
       "['hi', 'hello']"
      ]
     },
     "execution_count": 111,
     "metadata": {},
     "output_type": "execute_result"
    }
   ],
   "source": [
    "l3=['hi','hello']\n",
    "l3"
   ]
  },
  {
   "cell_type": "code",
   "execution_count": 112,
   "id": "f0b83abc-81fb-4568-801c-22e1299a0736",
   "metadata": {},
   "outputs": [
    {
     "data": {
      "text/plain": [
       "'hello'"
      ]
     },
     "execution_count": 112,
     "metadata": {},
     "output_type": "execute_result"
    }
   ],
   "source": [
    "l3[1]"
   ]
  },
  {
   "cell_type": "code",
   "execution_count": 113,
   "id": "3e44dbce-062e-4432-82bd-67354afb361f",
   "metadata": {},
   "outputs": [
    {
     "data": {
      "text/plain": [
       "{10, 30}"
      ]
     },
     "execution_count": 113,
     "metadata": {},
     "output_type": "execute_result"
    }
   ],
   "source": [
    "l6[2]"
   ]
  },
  {
   "cell_type": "code",
   "execution_count": 114,
   "id": "31d30281-730c-477b-aefe-264a6143e2c1",
   "metadata": {},
   "outputs": [
    {
     "data": {
      "text/plain": [
       "20"
      ]
     },
     "execution_count": 114,
     "metadata": {},
     "output_type": "execute_result"
    }
   ],
   "source": [
    "l5[1][1] # nested index"
   ]
  },
  {
   "cell_type": "code",
   "execution_count": 115,
   "id": "2657bc5c-0938-4a0f-9a5d-152ce36ce24a",
   "metadata": {},
   "outputs": [
    {
     "data": {
      "text/plain": [
       "['hp', [10, 20], {10, 30}]"
      ]
     },
     "execution_count": 115,
     "metadata": {},
     "output_type": "execute_result"
    }
   ],
   "source": [
    "l6"
   ]
  },
  {
   "cell_type": "code",
   "execution_count": 118,
   "id": "43ebda3c-b467-4251-813b-7734d9ee3d70",
   "metadata": {},
   "outputs": [
    {
     "name": "stdout",
     "output_type": "stream",
     "text": [
      "20\n",
      "p\n"
     ]
    }
   ],
   "source": [
    "print(l6[1][1])\n",
    "print(l6[0][1]) # nested index"
   ]
  },
  {
   "cell_type": "code",
   "execution_count": 119,
   "id": "aa0c7340-1b01-4326-b425-1f97c327182b",
   "metadata": {},
   "outputs": [
    {
     "data": {
      "text/plain": [
       "{10, 30}"
      ]
     },
     "execution_count": 119,
     "metadata": {},
     "output_type": "execute_result"
    }
   ],
   "source": [
    "l6[-1]"
   ]
  },
  {
   "cell_type": "code",
   "execution_count": 121,
   "id": "b83e566c-e56b-4f02-bf9e-6c548d554fb3",
   "metadata": {},
   "outputs": [
    {
     "data": {
      "text/plain": [
       "10"
      ]
     },
     "execution_count": 121,
     "metadata": {},
     "output_type": "execute_result"
    }
   ],
   "source": [
    "l6[-2][0]"
   ]
  },
  {
   "cell_type": "code",
   "execution_count": 123,
   "id": "14d68931-50ae-4060-8f94-99721ba36228",
   "metadata": {},
   "outputs": [
    {
     "data": {
      "text/plain": [
       "20"
      ]
     },
     "execution_count": 123,
     "metadata": {},
     "output_type": "execute_result"
    }
   ],
   "source": [
    "l6[-2][-1]"
   ]
  },
  {
   "cell_type": "code",
   "execution_count": 124,
   "id": "13784bc3-c978-4fea-89e1-82c3c898c870",
   "metadata": {},
   "outputs": [
    {
     "ename": "TypeError",
     "evalue": "'set' object is not subscriptable",
     "output_type": "error",
     "traceback": [
      "\u001b[1;31m---------------------------------------------------------------------------\u001b[0m",
      "\u001b[1;31mTypeError\u001b[0m                                 Traceback (most recent call last)",
      "Cell \u001b[1;32mIn[124], line 1\u001b[0m\n\u001b[1;32m----> 1\u001b[0m l6[\u001b[38;5;241m-\u001b[39m\u001b[38;5;241m1\u001b[39m][\u001b[38;5;241m-\u001b[39m\u001b[38;5;241m1\u001b[39m]\n",
      "\u001b[1;31mTypeError\u001b[0m: 'set' object is not subscriptable"
     ]
    }
   ],
   "source": [
    "l6[-1][-1]"
   ]
  },
  {
   "cell_type": "code",
   "execution_count": 125,
   "id": "b396e0b4-1643-462a-a2ee-f8a42a8d1039",
   "metadata": {},
   "outputs": [],
   "source": [
    "lis=['one','two','three','four','five']"
   ]
  },
  {
   "cell_type": "code",
   "execution_count": 126,
   "id": "0fe31b94-dfa6-43f5-a896-cd9d4e370e12",
   "metadata": {},
   "outputs": [
    {
     "data": {
      "text/plain": [
       "['one', 'two', 'three']"
      ]
     },
     "execution_count": 126,
     "metadata": {},
     "output_type": "execute_result"
    }
   ],
   "source": [
    "lis[0:3]"
   ]
  },
  {
   "cell_type": "code",
   "execution_count": 129,
   "id": "b3bd2056-ab4d-46ca-a55e-7dcc27fcc1b4",
   "metadata": {},
   "outputs": [
    {
     "data": {
      "text/plain": [
       "['two', 'three', 'four', 'five']"
      ]
     },
     "execution_count": 129,
     "metadata": {},
     "output_type": "execute_result"
    }
   ],
   "source": [
    "lis[1:]"
   ]
  },
  {
   "cell_type": "code",
   "execution_count": 131,
   "id": "5c989db6-5494-43ed-a346-c3f25d8aa0bf",
   "metadata": {},
   "outputs": [
    {
     "data": {
      "text/plain": [
       "['two', 'three', 'four', 'five']"
      ]
     },
     "execution_count": 131,
     "metadata": {},
     "output_type": "execute_result"
    }
   ],
   "source": [
    "lis[-4:]"
   ]
  },
  {
   "cell_type": "code",
   "execution_count": 132,
   "id": "9e564061-a00d-4e0b-9eae-4806f6aa6485",
   "metadata": {},
   "outputs": [
    {
     "data": {
      "text/plain": [
       "['one', 'two', 'three', 'four']"
      ]
     },
     "execution_count": 132,
     "metadata": {},
     "output_type": "execute_result"
    }
   ],
   "source": [
    "lis[-5:-1]"
   ]
  },
  {
   "cell_type": "code",
   "execution_count": 134,
   "id": "7e538757-f97c-4645-9015-c3843c50b5ce",
   "metadata": {},
   "outputs": [
    {
     "data": {
      "text/plain": [
       "['one', 'two', 'three', 'four', 'five']"
      ]
     },
     "execution_count": 134,
     "metadata": {},
     "output_type": "execute_result"
    }
   ],
   "source": [
    "lis[:]"
   ]
  },
  {
   "cell_type": "code",
   "execution_count": 135,
   "id": "34ff905c-10b1-4a1e-a60d-b139cb7afe87",
   "metadata": {},
   "outputs": [
    {
     "data": {
      "text/plain": [
       "'three'"
      ]
     },
     "execution_count": 135,
     "metadata": {},
     "output_type": "execute_result"
    }
   ],
   "source": [
    "lis[-3]"
   ]
  },
  {
   "cell_type": "code",
   "execution_count": 137,
   "id": "161e43f1-afeb-4cc7-9957-d723b6ddd43b",
   "metadata": {},
   "outputs": [
    {
     "data": {
      "text/plain": [
       "['one', 'two', 'three', 'four', 'five', 'six', 'six']"
      ]
     },
     "execution_count": 137,
     "metadata": {},
     "output_type": "execute_result"
    }
   ],
   "source": [
    "lis.append('six')  #here in o/p Six six it means i executed 2 times\n",
    "lis"
   ]
  },
  {
   "cell_type": "code",
   "execution_count": 138,
   "id": "edea54af-15b5-48c3-8b50-cde9f6f2efc3",
   "metadata": {},
   "outputs": [
    {
     "data": {
      "text/plain": [
       "['one', 'two', 'three', 'four', 'five', 'six', 'six', 'six']"
      ]
     },
     "execution_count": 138,
     "metadata": {},
     "output_type": "execute_result"
    }
   ],
   "source": [
    "lis.append('six')\n",
    "lis"
   ]
  },
  {
   "cell_type": "code",
   "execution_count": 139,
   "id": "3e977cd4-1adf-43b6-adf1-776eac451cbd",
   "metadata": {},
   "outputs": [],
   "source": [
    "lis.append(7)"
   ]
  },
  {
   "cell_type": "code",
   "execution_count": 140,
   "id": "88bb0637-2644-45df-b42c-512f489c0c25",
   "metadata": {},
   "outputs": [
    {
     "data": {
      "text/plain": [
       "['one', 'two', 'three', 'four', 'five', 'six', 'six', 'six', 7]"
      ]
     },
     "execution_count": 140,
     "metadata": {},
     "output_type": "execute_result"
    }
   ],
   "source": [
    "lis"
   ]
  },
  {
   "cell_type": "code",
   "execution_count": 141,
   "id": "88000983-4fcf-4417-8176-f7c7498e6712",
   "metadata": {},
   "outputs": [
    {
     "data": {
      "text/plain": [
       "7"
      ]
     },
     "execution_count": 141,
     "metadata": {},
     "output_type": "execute_result"
    }
   ],
   "source": [
    "lis.pop()"
   ]
  },
  {
   "cell_type": "code",
   "execution_count": 143,
   "id": "671a14da-ff60-4c0e-a77a-f27cad4c3b48",
   "metadata": {},
   "outputs": [
    {
     "data": {
      "text/plain": [
       "'six'"
      ]
     },
     "execution_count": 143,
     "metadata": {},
     "output_type": "execute_result"
    }
   ],
   "source": [
    "lis.pop(-2)"
   ]
  },
  {
   "cell_type": "code",
   "execution_count": 144,
   "id": "ee68f046-061f-4961-a0c2-9188cc47ba5c",
   "metadata": {},
   "outputs": [
    {
     "data": {
      "text/plain": [
       "['one', 'two', 'three', 'four', 'five', 'six', 'six']"
      ]
     },
     "execution_count": 144,
     "metadata": {},
     "output_type": "execute_result"
    }
   ],
   "source": [
    "lis"
   ]
  },
  {
   "cell_type": "code",
   "execution_count": 145,
   "id": "7cf2bff8-922a-4ffa-b6d2-0458cb1d9c90",
   "metadata": {},
   "outputs": [],
   "source": [
    "lis.insert(-1,6)"
   ]
  },
  {
   "cell_type": "code",
   "execution_count": 146,
   "id": "65bef0dd-a95d-4e71-95f4-aa940cca1dd8",
   "metadata": {},
   "outputs": [
    {
     "data": {
      "text/plain": [
       "['one', 'two', 'three', 'four', 'five', 'six', 6, 'six']"
      ]
     },
     "execution_count": 146,
     "metadata": {},
     "output_type": "execute_result"
    }
   ],
   "source": [
    "lis"
   ]
  },
  {
   "cell_type": "code",
   "execution_count": 147,
   "id": "59bff246-fc2b-410d-9254-78c3415a9c2f",
   "metadata": {},
   "outputs": [
    {
     "data": {
      "text/plain": [
       "[1, 'one', 'two', 'three', 'four', 'five', 'six', 6, 'six']"
      ]
     },
     "execution_count": 147,
     "metadata": {},
     "output_type": "execute_result"
    }
   ],
   "source": [
    "lis.insert(0,1)\n",
    "lis"
   ]
  },
  {
   "cell_type": "code",
   "execution_count": 152,
   "id": "be3affe2-ef32-4b5a-a574-2431028599f7",
   "metadata": {},
   "outputs": [
    {
     "data": {
      "text/plain": [
       "[1, 'ONE', 'one', 'two', 'three', 'four', 'five', 'six', 6, 'six']"
      ]
     },
     "execution_count": 152,
     "metadata": {},
     "output_type": "execute_result"
    }
   ],
   "source": [
    "lis.insert(1,'ONE')\n",
    "lis"
   ]
  },
  {
   "cell_type": "code",
   "execution_count": 154,
   "id": "1a9e100a-e27b-4f0e-9374-345c9f214245",
   "metadata": {},
   "outputs": [
    {
     "data": {
      "text/plain": [
       "[1, 'one', 'two', 'three', 'four', 'five', 'six', 6, 'six']"
      ]
     },
     "execution_count": 154,
     "metadata": {},
     "output_type": "execute_result"
    }
   ],
   "source": [
    "lis.remove('ONE')\n",
    "lis"
   ]
  },
  {
   "cell_type": "code",
   "execution_count": 155,
   "id": "df006c8a-1f4a-47d8-9be2-4791099d0719",
   "metadata": {},
   "outputs": [],
   "source": [
    "lis.remove('six')"
   ]
  },
  {
   "cell_type": "code",
   "execution_count": 156,
   "id": "807c0054-36ea-4b8d-80fe-a22debf24622",
   "metadata": {},
   "outputs": [
    {
     "data": {
      "text/plain": [
       "[1, 'one', 'two', 'three', 'four', 'five', 6, 'six']"
      ]
     },
     "execution_count": 156,
     "metadata": {},
     "output_type": "execute_result"
    }
   ],
   "source": [
    "lis"
   ]
  },
  {
   "cell_type": "code",
   "execution_count": 158,
   "id": "9a797eb8-b7e4-45a0-af00-efa0cf67e554",
   "metadata": {},
   "outputs": [],
   "source": [
    "lis.remove(6)"
   ]
  },
  {
   "cell_type": "code",
   "execution_count": 159,
   "id": "b21b08c1-cd2f-45b0-ace7-0782f19cee7b",
   "metadata": {},
   "outputs": [
    {
     "data": {
      "text/plain": [
       "[1, 'one', 'two', 'three', 'four', 'five', 'six']"
      ]
     },
     "execution_count": 159,
     "metadata": {},
     "output_type": "execute_result"
    }
   ],
   "source": [
    "lis"
   ]
  },
  {
   "cell_type": "code",
   "execution_count": 167,
   "id": "a96ad17c-c91e-48db-9f16-b4638d31f1c2",
   "metadata": {},
   "outputs": [],
   "source": [
    "del lis[0]"
   ]
  },
  {
   "cell_type": "code",
   "execution_count": 168,
   "id": "98f48560-c193-4da9-b2dd-33a0ea59128c",
   "metadata": {},
   "outputs": [
    {
     "data": {
      "text/plain": [
       "['two', 'three', 'four', 'five', 'six']"
      ]
     },
     "execution_count": 168,
     "metadata": {},
     "output_type": "execute_result"
    }
   ],
   "source": [
    "lis"
   ]
  },
  {
   "cell_type": "code",
   "execution_count": 171,
   "id": "6fed1ddb-0edb-45b7-b69b-d82f7b06cce6",
   "metadata": {},
   "outputs": [
    {
     "data": {
      "text/plain": [
       "['two', 'three', 'four', 'five']"
      ]
     },
     "execution_count": 171,
     "metadata": {},
     "output_type": "execute_result"
    }
   ],
   "source": [
    "lis"
   ]
  },
  {
   "cell_type": "code",
   "execution_count": 172,
   "id": "df733649-2bf3-4373-ac59-a16ed976c12a",
   "metadata": {},
   "outputs": [
    {
     "data": {
      "text/plain": [
       "['two', 'three', 'four']"
      ]
     },
     "execution_count": 172,
     "metadata": {},
     "output_type": "execute_result"
    }
   ],
   "source": [
    "del lis[3]\n",
    "lis"
   ]
  },
  {
   "cell_type": "code",
   "execution_count": 175,
   "id": "a95387f9-0372-408b-902e-8ae26c983a13",
   "metadata": {},
   "outputs": [
    {
     "data": {
      "text/plain": [
       "['two', 'three', 'four', 'five']"
      ]
     },
     "execution_count": 175,
     "metadata": {},
     "output_type": "execute_result"
    }
   ],
   "source": [
    "lis.insert(3,'five')\n",
    "lis"
   ]
  },
  {
   "cell_type": "code",
   "execution_count": 176,
   "id": "3ab69ecc-4e9c-47b5-851e-5a10eafe1863",
   "metadata": {},
   "outputs": [
    {
     "data": {
      "text/plain": [
       "['one', 'two', 'three', 'four', 'five']"
      ]
     },
     "execution_count": 176,
     "metadata": {},
     "output_type": "execute_result"
    }
   ],
   "source": [
    "lis.insert(0,'one')\n",
    "lis"
   ]
  },
  {
   "cell_type": "code",
   "execution_count": 177,
   "id": "d740647b-56e0-442a-9583-0d7ffb01c9f5",
   "metadata": {},
   "outputs": [
    {
     "data": {
      "text/plain": [
       "[1, 2, 'three', 'four', 'five']"
      ]
     },
     "execution_count": 177,
     "metadata": {},
     "output_type": "execute_result"
    }
   ],
   "source": [
    "lis[0]=1\n",
    "lis[1]=2\n",
    "lis"
   ]
  },
  {
   "cell_type": "code",
   "execution_count": 178,
   "id": "84ee110b-6d83-4a8a-b488-150f3fb70786",
   "metadata": {},
   "outputs": [],
   "source": [
    "lis.clear()"
   ]
  },
  {
   "cell_type": "code",
   "execution_count": 179,
   "id": "63fab93a-f906-4df8-b655-5afcddfd00ac",
   "metadata": {},
   "outputs": [
    {
     "data": {
      "text/plain": [
       "[]"
      ]
     },
     "execution_count": 179,
     "metadata": {},
     "output_type": "execute_result"
    }
   ],
   "source": [
    "lis"
   ]
  },
  {
   "cell_type": "code",
   "execution_count": 180,
   "id": "e7dcd9a3-2334-4c6e-a045-814330d298b9",
   "metadata": {},
   "outputs": [
    {
     "data": {
      "text/plain": [
       "[]"
      ]
     },
     "execution_count": 180,
     "metadata": {},
     "output_type": "execute_result"
    }
   ],
   "source": [
    "lis"
   ]
  },
  {
   "cell_type": "code",
   "execution_count": 182,
   "id": "8847ed32-7e10-4abd-94cd-4e23e401fdaf",
   "metadata": {},
   "outputs": [],
   "source": [
    "del lis"
   ]
  },
  {
   "cell_type": "code",
   "execution_count": 183,
   "id": "da5beace-15d9-41cd-9c09-e44e72d67ef7",
   "metadata": {},
   "outputs": [
    {
     "ename": "NameError",
     "evalue": "name 'lis' is not defined",
     "output_type": "error",
     "traceback": [
      "\u001b[1;31m---------------------------------------------------------------------------\u001b[0m",
      "\u001b[1;31mNameError\u001b[0m                                 Traceback (most recent call last)",
      "Cell \u001b[1;32mIn[183], line 1\u001b[0m\n\u001b[1;32m----> 1\u001b[0m lis\n",
      "\u001b[1;31mNameError\u001b[0m: name 'lis' is not defined"
     ]
    }
   ],
   "source": [
    "lis"
   ]
  },
  {
   "cell_type": "code",
   "execution_count": 184,
   "id": "dc12dc88-55c7-4cab-a767-b8c249f617eb",
   "metadata": {},
   "outputs": [],
   "source": [
    "lis=['one','two','three','four','five']\n",
    "lis1=lis"
   ]
  },
  {
   "cell_type": "code",
   "execution_count": 185,
   "id": "2bff5ae3-76a7-463b-a8bb-4d90fd15d93a",
   "metadata": {},
   "outputs": [
    {
     "data": {
      "text/plain": [
       "(2109220382720, 2109220382720)"
      ]
     },
     "execution_count": 185,
     "metadata": {},
     "output_type": "execute_result"
    }
   ],
   "source": [
    "id(lis),id(lis1)"
   ]
  },
  {
   "cell_type": "code",
   "execution_count": 186,
   "id": "f7f90309-ac2c-42a4-ab94-65dbdfc4a0e2",
   "metadata": {},
   "outputs": [],
   "source": [
    "lis2=lis.copy()"
   ]
  },
  {
   "cell_type": "code",
   "execution_count": 187,
   "id": "ca68124d-04cc-4f68-8879-8d6e46be68be",
   "metadata": {},
   "outputs": [
    {
     "data": {
      "text/plain": [
       "2109225393536"
      ]
     },
     "execution_count": 187,
     "metadata": {},
     "output_type": "execute_result"
    }
   ],
   "source": [
    "id(lis2)"
   ]
  },
  {
   "cell_type": "code",
   "execution_count": 189,
   "id": "91356da7-4192-45e5-8f0f-675412fcd97d",
   "metadata": {},
   "outputs": [
    {
     "data": {
      "text/plain": [
       "(2109220382720, 2109220382720)"
      ]
     },
     "execution_count": 189,
     "metadata": {},
     "output_type": "execute_result"
    }
   ],
   "source": [
    "lis2=lis1\n",
    "id(lis1),id(lis1)"
   ]
  },
  {
   "cell_type": "code",
   "execution_count": 190,
   "id": "3e325fad-1b59-4e7d-bfc8-779164f0b079",
   "metadata": {},
   "outputs": [],
   "source": [
    "lis[0]=1"
   ]
  },
  {
   "cell_type": "code",
   "execution_count": 191,
   "id": "85ba02e2-d6a4-4393-9475-04af9e7997c9",
   "metadata": {},
   "outputs": [
    {
     "data": {
      "text/plain": [
       "[1, 'two', 'three', 'four', 'five']"
      ]
     },
     "execution_count": 191,
     "metadata": {},
     "output_type": "execute_result"
    }
   ],
   "source": [
    "lis"
   ]
  },
  {
   "cell_type": "code",
   "execution_count": 192,
   "id": "672d0e52-bdd2-4c81-a6bf-4b5104a19edf",
   "metadata": {},
   "outputs": [
    {
     "data": {
      "text/plain": [
       "[1, 'two', 'three', 'four', 'five']"
      ]
     },
     "execution_count": 192,
     "metadata": {},
     "output_type": "execute_result"
    }
   ],
   "source": [
    "lis1"
   ]
  },
  {
   "cell_type": "code",
   "execution_count": 193,
   "id": "51b166dd-67be-4226-a815-9923b1984799",
   "metadata": {},
   "outputs": [
    {
     "data": {
      "text/plain": [
       "[1, 'two', 'three', 'four', 'five']"
      ]
     },
     "execution_count": 193,
     "metadata": {},
     "output_type": "execute_result"
    }
   ],
   "source": [
    "lis2"
   ]
  },
  {
   "cell_type": "code",
   "execution_count": 194,
   "id": "73a227ba-11e3-4d57-ba36-4f373fdf179e",
   "metadata": {},
   "outputs": [
    {
     "data": {
      "text/plain": [
       "[1, 'two', 'three', 'four', 'five']"
      ]
     },
     "execution_count": 194,
     "metadata": {},
     "output_type": "execute_result"
    }
   ],
   "source": [
    "lis3=lis1.copy()  # copy list\n",
    "lis3"
   ]
  },
  {
   "cell_type": "code",
   "execution_count": 195,
   "id": "752cb040-6e9f-413d-8e99-f3db3ee91454",
   "metadata": {},
   "outputs": [
    {
     "data": {
      "text/plain": [
       "2109225443328"
      ]
     },
     "execution_count": 195,
     "metadata": {},
     "output_type": "execute_result"
    }
   ],
   "source": [
    "id(lis3)"
   ]
  },
  {
   "cell_type": "code",
   "execution_count": 196,
   "id": "bcb4ae9f-eef4-418a-9b95-ab2ccb7fde1b",
   "metadata": {},
   "outputs": [
    {
     "data": {
      "text/plain": [
       "2109220382720"
      ]
     },
     "execution_count": 196,
     "metadata": {},
     "output_type": "execute_result"
    }
   ],
   "source": [
    "id(lis1)"
   ]
  },
  {
   "cell_type": "code",
   "execution_count": 197,
   "id": "1a861e42-c391-4bb5-a2fd-80abb4a4d689",
   "metadata": {},
   "outputs": [
    {
     "data": {
      "text/plain": [
       "[1, 'two', 3, 'four', 'five']"
      ]
     },
     "execution_count": 197,
     "metadata": {},
     "output_type": "execute_result"
    }
   ],
   "source": [
    "lis1[2]=3\n",
    "lis1"
   ]
  },
  {
   "cell_type": "code",
   "execution_count": 198,
   "id": "cd66ed3c-8dd7-4ad2-8ac8-6ea64df41498",
   "metadata": {},
   "outputs": [
    {
     "data": {
      "text/plain": [
       "[1, 'two', 'three', 'four', 'five']"
      ]
     },
     "execution_count": 198,
     "metadata": {},
     "output_type": "execute_result"
    }
   ],
   "source": [
    "lis3"
   ]
  },
  {
   "cell_type": "code",
   "execution_count": 199,
   "id": "8d2d68fe-c8d4-4e39-a8c4-41a6f7e744a3",
   "metadata": {},
   "outputs": [],
   "source": [
    "lis1=[1,2,3,4]\n",
    "lis2=[5,6,7,8]\n",
    "lis3=lis1+lis2"
   ]
  },
  {
   "cell_type": "code",
   "execution_count": 200,
   "id": "d443f92b-d83b-4ee1-bb5a-5118c7662c4e",
   "metadata": {},
   "outputs": [
    {
     "data": {
      "text/plain": [
       "[1, 2, 3, 4, 5, 6, 7, 8]"
      ]
     },
     "execution_count": 200,
     "metadata": {},
     "output_type": "execute_result"
    }
   ],
   "source": [
    "lis3"
   ]
  },
  {
   "cell_type": "code",
   "execution_count": 201,
   "id": "85a9bd1f-ab9a-400f-8cb4-ca27b4f98f32",
   "metadata": {},
   "outputs": [],
   "source": [
    "lis1.extend(lis2)  # join list"
   ]
  },
  {
   "cell_type": "code",
   "execution_count": 202,
   "id": "e14e03e6-630d-447f-8cb1-5def8822b81d",
   "metadata": {},
   "outputs": [
    {
     "data": {
      "text/plain": [
       "[1, 2, 3, 4, 5, 6, 7, 8]"
      ]
     },
     "execution_count": 202,
     "metadata": {},
     "output_type": "execute_result"
    }
   ],
   "source": [
    "lis1"
   ]
  },
  {
   "cell_type": "code",
   "execution_count": 204,
   "id": "9ca76abf-c71c-4f6e-8322-5efd2911be09",
   "metadata": {},
   "outputs": [
    {
     "data": {
      "text/plain": [
       "[1, 2, 3, 4, 5, 6, 7, 8]"
      ]
     },
     "execution_count": 204,
     "metadata": {},
     "output_type": "execute_result"
    }
   ],
   "source": [
    "lis1"
   ]
  },
  {
   "cell_type": "code",
   "execution_count": 205,
   "id": "8860c591-317f-4ea8-80ac-5e9c7ead6552",
   "metadata": {},
   "outputs": [
    {
     "data": {
      "text/plain": [
       "True"
      ]
     },
     "execution_count": 205,
     "metadata": {},
     "output_type": "execute_result"
    }
   ],
   "source": [
    "1 in lis1"
   ]
  },
  {
   "cell_type": "code",
   "execution_count": 2,
   "id": "a2299d5d-2dcb-4c86-ac39-c167ade1133c",
   "metadata": {},
   "outputs": [
    {
     "data": {
      "text/plain": [
       "[10, 20, 30, 40]"
      ]
     },
     "execution_count": 2,
     "metadata": {},
     "output_type": "execute_result"
    }
   ],
   "source": [
    "lis1=[10,20,30,40]\n",
    "lis1"
   ]
  },
  {
   "cell_type": "code",
   "execution_count": 3,
   "id": "7de52a24-f2da-41cc-99cc-4296d2b9e91c",
   "metadata": {},
   "outputs": [
    {
     "data": {
      "text/plain": [
       "True"
      ]
     },
     "execution_count": 3,
     "metadata": {},
     "output_type": "execute_result"
    }
   ],
   "source": [
    "10 in lis1"
   ]
  },
  {
   "cell_type": "code",
   "execution_count": 4,
   "id": "06ceda86-4f8b-46a4-af2b-df69e317d2e0",
   "metadata": {},
   "outputs": [
    {
     "data": {
      "text/plain": [
       "False"
      ]
     },
     "execution_count": 4,
     "metadata": {},
     "output_type": "execute_result"
    }
   ],
   "source": [
    "100 in lis1"
   ]
  },
  {
   "cell_type": "code",
   "execution_count": 206,
   "id": "950c802a-1ee2-4e62-858b-05429432de9c",
   "metadata": {},
   "outputs": [
    {
     "data": {
      "text/plain": [
       "False"
      ]
     },
     "execution_count": 206,
     "metadata": {},
     "output_type": "execute_result"
    }
   ],
   "source": [
    "9 in lis1"
   ]
  },
  {
   "cell_type": "code",
   "execution_count": 211,
   "id": "2e804715-c3bc-4994-9f34-004171ef136b",
   "metadata": {},
   "outputs": [
    {
     "data": {
      "text/plain": [
       "[1, 2, 3, 4, 5, 6, 7, 8]"
      ]
     },
     "execution_count": 211,
     "metadata": {},
     "output_type": "execute_result"
    }
   ],
   "source": [
    "lis1"
   ]
  },
  {
   "cell_type": "code",
   "execution_count": 213,
   "id": "189c410e-7bd9-45a8-acba-d7c14ea1a113",
   "metadata": {},
   "outputs": [
    {
     "data": {
      "text/plain": [
       "[8, 7, 6, 5, 4, 3, 2, 1]"
      ]
     },
     "execution_count": 213,
     "metadata": {},
     "output_type": "execute_result"
    }
   ],
   "source": [
    "lis1.reverse()\n",
    "lis1"
   ]
  },
  {
   "cell_type": "code",
   "execution_count": 219,
   "id": "1bef7986-318d-44af-a582-0d15c8a54477",
   "metadata": {},
   "outputs": [
    {
     "data": {
      "text/plain": [
       "<function list.clear()>"
      ]
     },
     "execution_count": 219,
     "metadata": {},
     "output_type": "execute_result"
    }
   ],
   "source": [
    "lis1.clear"
   ]
  },
  {
   "cell_type": "code",
   "execution_count": 221,
   "id": "5116a3ec-978c-4154-a7d5-403c3180542c",
   "metadata": {},
   "outputs": [],
   "source": [
    "del lis1"
   ]
  },
  {
   "cell_type": "code",
   "execution_count": 222,
   "id": "5596f62e-a831-462c-9fa6-41d7b4cdeebb",
   "metadata": {},
   "outputs": [
    {
     "ename": "NameError",
     "evalue": "name 'lis1' is not defined",
     "output_type": "error",
     "traceback": [
      "\u001b[1;31m---------------------------------------------------------------------------\u001b[0m",
      "\u001b[1;31mNameError\u001b[0m                                 Traceback (most recent call last)",
      "Cell \u001b[1;32mIn[222], line 1\u001b[0m\n\u001b[1;32m----> 1\u001b[0m lis1\n",
      "\u001b[1;31mNameError\u001b[0m: name 'lis1' is not defined"
     ]
    }
   ],
   "source": [
    "lis1"
   ]
  },
  {
   "cell_type": "code",
   "execution_count": 223,
   "id": "7719be65-0202-431e-9320-f2386b9e75a0",
   "metadata": {},
   "outputs": [
    {
     "data": {
      "text/plain": [
       "3"
      ]
     },
     "execution_count": 223,
     "metadata": {},
     "output_type": "execute_result"
    }
   ],
   "source": [
    "list =['one', 'two', 'three', 'four', 'one', 'one', 'two', 'three'] \n",
    "list.count('one')"
   ]
  },
  {
   "cell_type": "code",
   "execution_count": 224,
   "id": "414a5c6f-dd4c-4d5b-8fc9-46ed4be9a4b8",
   "metadata": {},
   "outputs": [
    {
     "data": {
      "text/plain": [
       "2"
      ]
     },
     "execution_count": 224,
     "metadata": {},
     "output_type": "execute_result"
    }
   ],
   "source": [
    "list.count('three')"
   ]
  },
  {
   "cell_type": "code",
   "execution_count": 1,
   "id": "3d4ad395-ed69-4b4e-9924-41d5db650a14",
   "metadata": {},
   "outputs": [
    {
     "data": {
      "text/plain": [
       "[10, 20, 30, 40]"
      ]
     },
     "execution_count": 1,
     "metadata": {},
     "output_type": "execute_result"
    }
   ],
   "source": [
    "l=[10,20,30,40]\n",
    "l"
   ]
  },
  {
   "cell_type": "markdown",
   "id": "7b09e062-3276-40ba-a730-1493dcad4dfa",
   "metadata": {},
   "source": [
    "# List membership\n"
   ]
  },
  {
   "cell_type": "code",
   "execution_count": 2,
   "id": "5dc7d6c7-3bad-4853-a28e-be03a3e30f50",
   "metadata": {},
   "outputs": [
    {
     "data": {
      "text/plain": [
       "[10, 20, 30, 40]"
      ]
     },
     "execution_count": 2,
     "metadata": {},
     "output_type": "execute_result"
    }
   ],
   "source": [
    "l"
   ]
  },
  {
   "cell_type": "code",
   "execution_count": 4,
   "id": "3e01929a-566d-42b5-afe6-f43c1c9e53ee",
   "metadata": {},
   "outputs": [
    {
     "data": {
      "text/plain": [
       "True"
      ]
     },
     "execution_count": 4,
     "metadata": {},
     "output_type": "execute_result"
    }
   ],
   "source": [
    "10 in l"
   ]
  },
  {
   "cell_type": "code",
   "execution_count": 5,
   "id": "9de096ef-8c68-494b-ba9b-185cd3963623",
   "metadata": {},
   "outputs": [
    {
     "data": {
      "text/plain": [
       "False"
      ]
     },
     "execution_count": 5,
     "metadata": {},
     "output_type": "execute_result"
    }
   ],
   "source": [
    "100 in l"
   ]
  },
  {
   "cell_type": "markdown",
   "id": "cbcab810-d3b1-435c-a8c7-aa5d26da4d22",
   "metadata": {},
   "source": [
    "# Loop through a list"
   ]
  },
  {
   "cell_type": "code",
   "execution_count": 9,
   "id": "637491aa-dbae-4911-a4ee-2e065da08076",
   "metadata": {},
   "outputs": [
    {
     "name": "stdout",
     "output_type": "stream",
     "text": [
      "10\n",
      "20\n",
      "30\n",
      "40\n"
     ]
    }
   ],
   "source": [
    "for i in (l):\n",
    "    print(i)"
   ]
  },
  {
   "cell_type": "code",
   "execution_count": 7,
   "id": "9c529a05-5c6d-494e-8e98-7404c5687904",
   "metadata": {},
   "outputs": [
    {
     "data": {
      "text/plain": [
       "[10, 20, 30, 40]"
      ]
     },
     "execution_count": 7,
     "metadata": {},
     "output_type": "execute_result"
    }
   ],
   "source": [
    "l"
   ]
  },
  {
   "cell_type": "code",
   "execution_count": 8,
   "id": "6953dff8-e5f3-470b-a8c8-dba4664ca39e",
   "metadata": {},
   "outputs": [
    {
     "name": "stdout",
     "output_type": "stream",
     "text": [
      "(0, 10)\n",
      "(1, 20)\n",
      "(2, 30)\n",
      "(3, 40)\n"
     ]
    }
   ],
   "source": [
    "for i in enumerate(l):\n",
    "    print(i)"
   ]
  },
  {
   "cell_type": "code",
   "execution_count": 13,
   "id": "7d13e6a1-ceb6-4df3-922f-5f817a7102db",
   "metadata": {},
   "outputs": [
    {
     "data": {
      "text/plain": [
       "[100, 200, 'nit']"
      ]
     },
     "execution_count": 13,
     "metadata": {},
     "output_type": "execute_result"
    }
   ],
   "source": [
    "l1=[100,200,'nit']\n",
    "l1"
   ]
  },
  {
   "cell_type": "code",
   "execution_count": 14,
   "id": "a66e6378-1cb3-462f-8b1d-7fab2c5b39f9",
   "metadata": {},
   "outputs": [
    {
     "name": "stdout",
     "output_type": "stream",
     "text": [
      "[10, 20, 30, 40]\n",
      "[100, 200, 'nit']\n"
     ]
    }
   ],
   "source": [
    "print(l)\n",
    "print(l1)"
   ]
  },
  {
   "cell_type": "code",
   "execution_count": 21,
   "id": "db10fc72-b6fd-47ce-a5da-a0f2eae03aed",
   "metadata": {},
   "outputs": [],
   "source": [
    "l.extend(l1)"
   ]
  },
  {
   "cell_type": "code",
   "execution_count": 22,
   "id": "3d523892-0594-40b0-a7f1-2408d7c3cf2b",
   "metadata": {},
   "outputs": [
    {
     "data": {
      "text/plain": [
       "[10, 20, 30, 40, 100, 200, 'nit', 100, 200, 'nit']"
      ]
     },
     "execution_count": 22,
     "metadata": {},
     "output_type": "execute_result"
    }
   ],
   "source": [
    "l"
   ]
  },
  {
   "cell_type": "code",
   "execution_count": 17,
   "id": "9a774e74-e910-4649-8b5d-bb3c229b154f",
   "metadata": {},
   "outputs": [
    {
     "data": {
      "text/plain": [
       "[10, 20, 30, 40]"
      ]
     },
     "execution_count": 17,
     "metadata": {},
     "output_type": "execute_result"
    }
   ],
   "source": [
    "l.sort()\n",
    "l"
   ]
  },
  {
   "cell_type": "code",
   "execution_count": 24,
   "id": "0a866e1c-4ea6-4cba-a493-1e59fb3cbd35",
   "metadata": {},
   "outputs": [
    {
     "data": {
      "text/plain": [
       "[10, 20, 30, 40, 100, 200, 'nit', 100, 200, 'nit']"
      ]
     },
     "execution_count": 24,
     "metadata": {},
     "output_type": "execute_result"
    }
   ],
   "source": [
    "l"
   ]
  },
  {
   "cell_type": "code",
   "execution_count": 25,
   "id": "327c5b9a-fa7e-4fee-9c7b-63d60a820171",
   "metadata": {},
   "outputs": [
    {
     "data": {
      "text/plain": [
       "[10, 20, 30, 40]"
      ]
     },
     "execution_count": 25,
     "metadata": {},
     "output_type": "execute_result"
    }
   ],
   "source": [
    "l=[10,20,30,40]\n",
    "l"
   ]
  },
  {
   "cell_type": "code",
   "execution_count": 26,
   "id": "5d2edac6-2d42-4a86-a846-f9ad61515083",
   "metadata": {},
   "outputs": [],
   "source": [
    "l.sort(reverse=True)"
   ]
  },
  {
   "cell_type": "code",
   "execution_count": 27,
   "id": "fa93ee32-47c5-4b5a-a719-d6a3de2dc13a",
   "metadata": {},
   "outputs": [
    {
     "data": {
      "text/plain": [
       "[40, 30, 20, 10]"
      ]
     },
     "execution_count": 27,
     "metadata": {},
     "output_type": "execute_result"
    }
   ],
   "source": [
    "l"
   ]
  },
  {
   "cell_type": "code",
   "execution_count": 28,
   "id": "3949278e-ce5e-41c1-98d1-ecf66ec4d94c",
   "metadata": {},
   "outputs": [
    {
     "data": {
      "text/plain": [
       "[100, 200, 'nit']"
      ]
     },
     "execution_count": 28,
     "metadata": {},
     "output_type": "execute_result"
    }
   ],
   "source": [
    "l1"
   ]
  },
  {
   "cell_type": "code",
   "execution_count": 29,
   "id": "e896c2e9-ee00-4c7d-8440-8319a963903c",
   "metadata": {},
   "outputs": [
    {
     "ename": "TypeError",
     "evalue": "'<' not supported between instances of 'str' and 'int'",
     "output_type": "error",
     "traceback": [
      "\u001b[1;31m---------------------------------------------------------------------------\u001b[0m",
      "\u001b[1;31mTypeError\u001b[0m                                 Traceback (most recent call last)",
      "Cell \u001b[1;32mIn[29], line 1\u001b[0m\n\u001b[1;32m----> 1\u001b[0m l1\u001b[38;5;241m.\u001b[39msort(reverse\u001b[38;5;241m=\u001b[39m\u001b[38;5;28;01mFalse\u001b[39;00m)\n",
      "\u001b[1;31mTypeError\u001b[0m: '<' not supported between instances of 'str' and 'int'"
     ]
    }
   ],
   "source": [
    "l1.sort(reverse=False)  # int and strng not allowed"
   ]
  },
  {
   "cell_type": "code",
   "execution_count": null,
   "id": "3ffe285a-b629-4fce-8c3c-5696bb57ff8b",
   "metadata": {},
   "outputs": [],
   "source": []
  },
  {
   "cell_type": "markdown",
   "id": "f7f9e53f-2ba0-43b8-afe8-d4f42326a4da",
   "metadata": {},
   "source": [
    "# all and any"
   ]
  },
  {
   "cell_type": "code",
   "execution_count": 30,
   "id": "b0b42682-643a-4f18-a0ab-9d5498e4923f",
   "metadata": {},
   "outputs": [
    {
     "data": {
      "text/plain": [
       "[40, 30, 20, 10]"
      ]
     },
     "execution_count": 30,
     "metadata": {},
     "output_type": "execute_result"
    }
   ],
   "source": [
    "l"
   ]
  },
  {
   "cell_type": "code",
   "execution_count": 31,
   "id": "dc423c0a-c7f7-476d-aba3-d74740183689",
   "metadata": {},
   "outputs": [
    {
     "data": {
      "text/plain": [
       "True"
      ]
     },
     "execution_count": 31,
     "metadata": {},
     "output_type": "execute_result"
    }
   ],
   "source": [
    "all(l)"
   ]
  },
  {
   "cell_type": "code",
   "execution_count": 32,
   "id": "1f10c701-0708-4af1-b6b0-1f9c00eda918",
   "metadata": {},
   "outputs": [
    {
     "data": {
      "text/plain": [
       "True"
      ]
     },
     "execution_count": 32,
     "metadata": {},
     "output_type": "execute_result"
    }
   ],
   "source": [
    "any(l)"
   ]
  },
  {
   "cell_type": "code",
   "execution_count": 33,
   "id": "7ffff3b4-e2c3-46e0-8b18-e080e2298c82",
   "metadata": {},
   "outputs": [
    {
     "data": {
      "text/plain": [
       "[40, 30, 20, 10, 0]"
      ]
     },
     "execution_count": 33,
     "metadata": {},
     "output_type": "execute_result"
    }
   ],
   "source": [
    "l.append(0)\n",
    "l"
   ]
  },
  {
   "cell_type": "code",
   "execution_count": 34,
   "id": "438cf66a-c30c-4a0c-963c-e749ac36cc9d",
   "metadata": {},
   "outputs": [
    {
     "data": {
      "text/plain": [
       "False"
      ]
     },
     "execution_count": 34,
     "metadata": {},
     "output_type": "execute_result"
    }
   ],
   "source": [
    "all(l)"
   ]
  },
  {
   "cell_type": "code",
   "execution_count": 35,
   "id": "3979e575-559b-4e6b-9309-dccc1014a3eb",
   "metadata": {},
   "outputs": [
    {
     "data": {
      "text/plain": [
       "True"
      ]
     },
     "execution_count": 35,
     "metadata": {},
     "output_type": "execute_result"
    }
   ],
   "source": [
    "any(l)"
   ]
  },
  {
   "cell_type": "markdown",
   "id": "e5d68de9-b10d-450f-b9ad-9c53401b61cc",
   "metadata": {},
   "source": [
    "# TUPLE"
   ]
  },
  {
   "cell_type": "code",
   "execution_count": 38,
   "id": "a679aa3b-a04c-451c-a4f7-0a19f8023fe1",
   "metadata": {},
   "outputs": [
    {
     "data": {
      "text/plain": [
       "()"
      ]
     },
     "execution_count": 38,
     "metadata": {},
     "output_type": "execute_result"
    }
   ],
   "source": [
    "t=()\n",
    "t"
   ]
  },
  {
   "cell_type": "code",
   "execution_count": 39,
   "id": "72e2a6f5-74ff-46bd-b144-466aae2db097",
   "metadata": {},
   "outputs": [
    {
     "data": {
      "text/plain": [
       "tuple"
      ]
     },
     "execution_count": 39,
     "metadata": {},
     "output_type": "execute_result"
    }
   ],
   "source": [
    "type(t)"
   ]
  },
  {
   "cell_type": "code",
   "execution_count": 40,
   "id": "1ff64fb6-6ce1-457e-ac7c-0132c41988ef",
   "metadata": {},
   "outputs": [
    {
     "data": {
      "text/plain": [
       "(10, 20, 30)"
      ]
     },
     "execution_count": 40,
     "metadata": {},
     "output_type": "execute_result"
    }
   ],
   "source": [
    "t1=(10,20,30)\n",
    "t1"
   ]
  },
  {
   "cell_type": "code",
   "execution_count": 41,
   "id": "786dea20-ccb7-403f-b964-be9adfff8af4",
   "metadata": {},
   "outputs": [
    {
     "ename": "AttributeError",
     "evalue": "'tuple' object has no attribute 'append'",
     "output_type": "error",
     "traceback": [
      "\u001b[1;31m---------------------------------------------------------------------------\u001b[0m",
      "\u001b[1;31mAttributeError\u001b[0m                            Traceback (most recent call last)",
      "Cell \u001b[1;32mIn[41], line 1\u001b[0m\n\u001b[1;32m----> 1\u001b[0m t1\u001b[38;5;241m.\u001b[39mappend(\u001b[38;5;241m20\u001b[39m)\n",
      "\u001b[1;31mAttributeError\u001b[0m: 'tuple' object has no attribute 'append'"
     ]
    }
   ],
   "source": [
    "t1.append(20)"
   ]
  },
  {
   "cell_type": "code",
   "execution_count": null,
   "id": "e8a293a6-1082-4f0c-8f36-6c0885ce2272",
   "metadata": {},
   "outputs": [],
   "source": []
  }
 ],
 "metadata": {
  "kernelspec": {
   "display_name": "Python [conda env:base] *",
   "language": "python",
   "name": "conda-base-py"
  },
  "language_info": {
   "codemirror_mode": {
    "name": "ipython",
    "version": 3
   },
   "file_extension": ".py",
   "mimetype": "text/x-python",
   "name": "python",
   "nbconvert_exporter": "python",
   "pygments_lexer": "ipython3",
   "version": "3.12.7"
  }
 },
 "nbformat": 4,
 "nbformat_minor": 5
}
