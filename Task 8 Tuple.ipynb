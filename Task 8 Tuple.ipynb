{
 "cells": [
  {
   "cell_type": "markdown",
   "id": "f3f42757-5634-472e-ab38-d47198ea5c0e",
   "metadata": {},
   "source": [
    "# Task 8 (Tuple)"
   ]
  },
  {
   "cell_type": "code",
   "execution_count": 1,
   "id": "d71f9041-01b7-43d2-9634-06f0c1e90aaa",
   "metadata": {},
   "outputs": [
    {
     "data": {
      "text/plain": [
       "()"
      ]
     },
     "execution_count": 1,
     "metadata": {},
     "output_type": "execute_result"
    }
   ],
   "source": [
    "t=()\n",
    "t"
   ]
  },
  {
   "cell_type": "code",
   "execution_count": 2,
   "id": "4f977b73-f39e-4c95-84fe-3f1789f5c954",
   "metadata": {},
   "outputs": [
    {
     "data": {
      "text/plain": [
       "tuple"
      ]
     },
     "execution_count": 2,
     "metadata": {},
     "output_type": "execute_result"
    }
   ],
   "source": [
    "type(t)"
   ]
  },
  {
   "cell_type": "code",
   "execution_count": 3,
   "id": "afea579d-01fd-4767-b979-d54eac76be0c",
   "metadata": {},
   "outputs": [],
   "source": [
    "t1=(1,2,3,4,5)  # tuple of int values"
   ]
  },
  {
   "cell_type": "code",
   "execution_count": 4,
   "id": "87ec4392-2754-4100-be0e-3309fdaebad8",
   "metadata": {},
   "outputs": [],
   "source": [
    "t2=(1.1,2.2,3.3,4.4,5.5) # tuple of float values"
   ]
  },
  {
   "cell_type": "code",
   "execution_count": 5,
   "id": "9dc41660-a8e5-445b-a7d1-71dbc35050d5",
   "metadata": {},
   "outputs": [],
   "source": [
    "t3=('one','two','three','four','five') # tuple of string values"
   ]
  },
  {
   "cell_type": "code",
   "execution_count": 6,
   "id": "9e40aa96-bdaf-43f9-8e89-20445e2694fd",
   "metadata": {},
   "outputs": [],
   "source": [
    "t4=(1,1.1,'hi',('hello'),(8,9),{2,3}) "
   ]
  },
  {
   "cell_type": "code",
   "execution_count": 7,
   "id": "ea510fc9-c380-40b0-bdc1-008a2b4fc4c8",
   "metadata": {},
   "outputs": [],
   "source": [
    "t5=(10,1.2,'hi') # mixed tuple"
   ]
  },
  {
   "cell_type": "code",
   "execution_count": 8,
   "id": "0ef22f81-0823-4a8f-9c68-3fc775019754",
   "metadata": {},
   "outputs": [],
   "source": [
    "t6=(10,2.3,'hi',(2,3),(4,5)) # nested tuples"
   ]
  },
  {
   "cell_type": "code",
   "execution_count": 9,
   "id": "ee70e019-71ca-48f0-988b-fcfb9f65314f",
   "metadata": {},
   "outputs": [
    {
     "data": {
      "text/plain": [
       "6"
      ]
     },
     "execution_count": 9,
     "metadata": {},
     "output_type": "execute_result"
    }
   ],
   "source": [
    "len (t4)  #length of list"
   ]
  },
  {
   "cell_type": "markdown",
   "id": "e1026c26-115a-4ae2-a734-30bda79d57af",
   "metadata": {},
   "source": [
    "# Tuple indexing"
   ]
  },
  {
   "cell_type": "code",
   "execution_count": 10,
   "id": "71e94ea5-bc97-4c99-a58e-7557c3df6375",
   "metadata": {},
   "outputs": [
    {
     "data": {
      "text/plain": [
       "'four'"
      ]
     },
     "execution_count": 10,
     "metadata": {},
     "output_type": "execute_result"
    }
   ],
   "source": [
    "t3[3]"
   ]
  },
  {
   "cell_type": "code",
   "execution_count": 11,
   "id": "d686409b-0e8a-476c-a54f-369cfc05f50c",
   "metadata": {},
   "outputs": [
    {
     "data": {
      "text/plain": [
       "{2, 3}"
      ]
     },
     "execution_count": 11,
     "metadata": {},
     "output_type": "execute_result"
    }
   ],
   "source": [
    "t4[5]"
   ]
  },
  {
   "cell_type": "code",
   "execution_count": 12,
   "id": "45bd9d5e-8533-4fdf-82c1-3bb8204c3f90",
   "metadata": {},
   "outputs": [
    {
     "data": {
      "text/plain": [
       "(4, 5)"
      ]
     },
     "execution_count": 12,
     "metadata": {},
     "output_type": "execute_result"
    }
   ],
   "source": [
    "t6[-1]"
   ]
  },
  {
   "cell_type": "code",
   "execution_count": 13,
   "id": "b1e29991-850a-4cdf-941e-5dee7c0c4e06",
   "metadata": {},
   "outputs": [
    {
     "data": {
      "text/plain": [
       "4"
      ]
     },
     "execution_count": 13,
     "metadata": {},
     "output_type": "execute_result"
    }
   ],
   "source": [
    "t6[-1][0]"
   ]
  },
  {
   "cell_type": "code",
   "execution_count": 15,
   "id": "e8c040bd-ab19-49b9-8a67-f31456e02f6f",
   "metadata": {},
   "outputs": [
    {
     "data": {
      "text/plain": [
       "'h'"
      ]
     },
     "execution_count": 15,
     "metadata": {},
     "output_type": "execute_result"
    }
   ],
   "source": [
    "t5[2][0]"
   ]
  },
  {
   "cell_type": "code",
   "execution_count": 16,
   "id": "328278b0-8090-42a9-a512-abfb689f2667",
   "metadata": {},
   "outputs": [
    {
     "data": {
      "text/plain": [
       "'e'"
      ]
     },
     "execution_count": 16,
     "metadata": {},
     "output_type": "execute_result"
    }
   ],
   "source": [
    "t3[-1][3]"
   ]
  },
  {
   "cell_type": "code",
   "execution_count": 21,
   "id": "e3d29f5f-307f-4c45-a2ed-d4feae058827",
   "metadata": {},
   "outputs": [
    {
     "name": "stdout",
     "output_type": "stream",
     "text": [
      "(0, 1)\n",
      "(1, 1.1)\n",
      "(2, 'hi')\n",
      "(3, 'hello')\n",
      "(4, (8, 9))\n",
      "(5, {2, 3})\n"
     ]
    }
   ],
   "source": [
    "for i in enumerate(t4):\n",
    "    print(i)"
   ]
  },
  {
   "cell_type": "code",
   "execution_count": 22,
   "id": "6c7a8d88-bfa1-4935-992d-36392dc06e9a",
   "metadata": {},
   "outputs": [
    {
     "name": "stdout",
     "output_type": "stream",
     "text": [
      "1.1\n",
      "2.2\n",
      "3.3\n",
      "4.4\n",
      "5.5\n"
     ]
    }
   ],
   "source": [
    "for i in(t2):\n",
    "    print(i)\n"
   ]
  },
  {
   "cell_type": "markdown",
   "id": "603bc6e3-e4fc-4de2-af6f-fccac0e3854d",
   "metadata": {},
   "source": [
    " # Tuple indexing"
   ]
  },
  {
   "cell_type": "code",
   "execution_count": 24,
   "id": "d8215455-0237-4cf2-a04b-463c1dc275ac",
   "metadata": {},
   "outputs": [
    {
     "data": {
      "text/plain": [
       "('one', 'two', 'three', 'four', 'five')"
      ]
     },
     "execution_count": 24,
     "metadata": {},
     "output_type": "execute_result"
    }
   ],
   "source": [
    "t3"
   ]
  },
  {
   "cell_type": "code",
   "execution_count": 26,
   "id": "78f53ea8-25e3-494b-9c74-7d653855728e",
   "metadata": {},
   "outputs": [
    {
     "name": "stdout",
     "output_type": "stream",
     "text": [
      "(0, 'one')\n",
      "(1, 'two')\n",
      "(2, 'three')\n",
      "(3, 'four')\n",
      "(4, 'five')\n"
     ]
    }
   ],
   "source": [
    "for i in enumerate(t3):\n",
    "    print(i)"
   ]
  },
  {
   "cell_type": "code",
   "execution_count": 28,
   "id": "426077d2-23ba-45ff-b416-d3418859321c",
   "metadata": {},
   "outputs": [
    {
     "data": {
      "text/plain": [
       "('three', 'four')"
      ]
     },
     "execution_count": 28,
     "metadata": {},
     "output_type": "execute_result"
    }
   ],
   "source": [
    "t3[2:4]"
   ]
  },
  {
   "cell_type": "code",
   "execution_count": 29,
   "id": "837caebc-fbd9-40eb-bcb2-743ce16a51a0",
   "metadata": {},
   "outputs": [
    {
     "data": {
      "text/plain": [
       "'e'"
      ]
     },
     "execution_count": 29,
     "metadata": {},
     "output_type": "execute_result"
    }
   ],
   "source": [
    "t3[2][3]"
   ]
  },
  {
   "cell_type": "code",
   "execution_count": 31,
   "id": "52b8e4ed-269a-4b20-a829-e690ef2c9cc4",
   "metadata": {},
   "outputs": [
    {
     "data": {
      "text/plain": [
       "('two',)"
      ]
     },
     "execution_count": 31,
     "metadata": {},
     "output_type": "execute_result"
    }
   ],
   "source": [
    "t3[1:2:4]"
   ]
  },
  {
   "cell_type": "code",
   "execution_count": 33,
   "id": "42b6c8b5-e58b-41fe-aea5-17b45785123f",
   "metadata": {},
   "outputs": [
    {
     "data": {
      "text/plain": [
       "(1, 1.1, 'hi', 'hello', (8, 9), {2, 3})"
      ]
     },
     "execution_count": 33,
     "metadata": {},
     "output_type": "execute_result"
    }
   ],
   "source": [
    "t4"
   ]
  },
  {
   "cell_type": "code",
   "execution_count": 34,
   "id": "ebcf7606-5813-40fe-a357-bd79ec2d4766",
   "metadata": {},
   "outputs": [
    {
     "name": "stdout",
     "output_type": "stream",
     "text": [
      "(0, 1)\n",
      "(1, 1.1)\n",
      "(2, 'hi')\n",
      "(3, 'hello')\n",
      "(4, (8, 9))\n",
      "(5, {2, 3})\n"
     ]
    }
   ],
   "source": [
    "for i in enumerate(t4):\n",
    "    print(i)"
   ]
  },
  {
   "cell_type": "code",
   "execution_count": 42,
   "id": "7a7abaa6-28f6-461c-9234-cba2056345e2",
   "metadata": {},
   "outputs": [
    {
     "name": "stdout",
     "output_type": "stream",
     "text": [
      "(1, 1.1, 'hi', 'hello', (8, 9))\n",
      "(1.1, 'hi', 'hello', (8, 9), {2, 3})\n",
      "e\n",
      "(1, 'hi', (8, 9))\n"
     ]
    }
   ],
   "source": [
    "print(t4[:5])\n",
    "print(t4[1:])\n",
    "print(t4[3][1])\n",
    "print(t4[0:7:2])"
   ]
  },
  {
   "cell_type": "code",
   "execution_count": 45,
   "id": "1f2d47ea-5fbb-49e0-ab16-6e6457d6e178",
   "metadata": {},
   "outputs": [
    {
     "data": {
      "text/plain": [
       "('hello', (8, 9))"
      ]
     },
     "execution_count": 45,
     "metadata": {},
     "output_type": "execute_result"
    }
   ],
   "source": [
    "t4[-3:-1]"
   ]
  },
  {
   "cell_type": "code",
   "execution_count": 46,
   "id": "bc7ef3fa-5505-430a-b456-daa7fa9a15a0",
   "metadata": {},
   "outputs": [
    {
     "data": {
      "text/plain": [
       "(1.1, 'hello')"
      ]
     },
     "execution_count": 46,
     "metadata": {},
     "output_type": "execute_result"
    }
   ],
   "source": [
    "t4[-5:-1:2]"
   ]
  },
  {
   "cell_type": "markdown",
   "id": "f463904d-8ece-49c0-923a-aea0aeba319c",
   "metadata": {},
   "source": [
    "# Remove and change items"
   ]
  },
  {
   "cell_type": "code",
   "execution_count": 47,
   "id": "5738010d-e393-4851-831c-289a38ac55f7",
   "metadata": {},
   "outputs": [
    {
     "data": {
      "text/plain": [
       "(1, 1.1, 'hi', 'hello', (8, 9), {2, 3})"
      ]
     },
     "execution_count": 47,
     "metadata": {},
     "output_type": "execute_result"
    }
   ],
   "source": [
    "t4"
   ]
  },
  {
   "cell_type": "code",
   "execution_count": 48,
   "id": "06f3dece-0a56-4174-a559-2ec42a723bb2",
   "metadata": {},
   "outputs": [
    {
     "ename": "TypeError",
     "evalue": "'tuple' object doesn't support item deletion",
     "output_type": "error",
     "traceback": [
      "\u001b[1;31m---------------------------------------------------------------------------\u001b[0m",
      "\u001b[1;31mTypeError\u001b[0m                                 Traceback (most recent call last)",
      "Cell \u001b[1;32mIn[48], line 1\u001b[0m\n\u001b[1;32m----> 1\u001b[0m \u001b[38;5;28;01mdel\u001b[39;00m t4[\u001b[38;5;241m2\u001b[39m]\n",
      "\u001b[1;31mTypeError\u001b[0m: 'tuple' object doesn't support item deletion"
     ]
    }
   ],
   "source": [
    "del t4[2]  # tuples are immutable in which we cant delete the value or item"
   ]
  },
  {
   "cell_type": "code",
   "execution_count": 49,
   "id": "efaf11c5-8f28-4173-b0e7-738339758d78",
   "metadata": {},
   "outputs": [
    {
     "ename": "TypeError",
     "evalue": "'tuple' object does not support item assignment",
     "output_type": "error",
     "traceback": [
      "\u001b[1;31m---------------------------------------------------------------------------\u001b[0m",
      "\u001b[1;31mTypeError\u001b[0m                                 Traceback (most recent call last)",
      "Cell \u001b[1;32mIn[49], line 1\u001b[0m\n\u001b[1;32m----> 1\u001b[0m t4[\u001b[38;5;241m2\u001b[39m]\u001b[38;5;241m=\u001b[39m\u001b[38;5;241m2\u001b[39m\n",
      "\u001b[1;31mTypeError\u001b[0m: 'tuple' object does not support item assignment"
     ]
    }
   ],
   "source": [
    "t4[2]=2 # in tuples we can't change the value or item"
   ]
  },
  {
   "cell_type": "code",
   "execution_count": 50,
   "id": "4d4645d8-e6c7-419d-b827-58c577b01023",
   "metadata": {},
   "outputs": [],
   "source": [
    "del t4 # in tuple we can delete the entire item"
   ]
  },
  {
   "cell_type": "code",
   "execution_count": 51,
   "id": "521aa962-05f2-4d51-95fa-0bba6cda3b3c",
   "metadata": {},
   "outputs": [
    {
     "ename": "NameError",
     "evalue": "name 't4' is not defined",
     "output_type": "error",
     "traceback": [
      "\u001b[1;31m---------------------------------------------------------------------------\u001b[0m",
      "\u001b[1;31mNameError\u001b[0m                                 Traceback (most recent call last)",
      "Cell \u001b[1;32mIn[51], line 1\u001b[0m\n\u001b[1;32m----> 1\u001b[0m t4\n",
      "\u001b[1;31mNameError\u001b[0m: name 't4' is not defined"
     ]
    }
   ],
   "source": [
    "t4"
   ]
  },
  {
   "cell_type": "markdown",
   "id": "1719c2e0-8ab9-4ddc-aefc-ebf1d78b1e60",
   "metadata": {},
   "source": [
    "# Loop through a tuple"
   ]
  },
  {
   "cell_type": "code",
   "execution_count": 53,
   "id": "2606fb19-7e06-4bd9-b5aa-7c91754d59f5",
   "metadata": {},
   "outputs": [
    {
     "data": {
      "text/plain": [
       "(10, 2.3, 'hi', (2, 3), (4, 5))"
      ]
     },
     "execution_count": 53,
     "metadata": {},
     "output_type": "execute_result"
    }
   ],
   "source": [
    "t6"
   ]
  },
  {
   "cell_type": "code",
   "execution_count": 54,
   "id": "ffb35dd3-fcea-489b-bad7-87431f96ec63",
   "metadata": {},
   "outputs": [
    {
     "name": "stdout",
     "output_type": "stream",
     "text": [
      "10\n",
      "2.3\n",
      "hi\n",
      "(2, 3)\n",
      "(4, 5)\n"
     ]
    }
   ],
   "source": [
    "for i in(t6):\n",
    "    print(i)\n"
   ]
  },
  {
   "cell_type": "code",
   "execution_count": 58,
   "id": "d60fd6a3-2926-45a6-9b57-b2656b9e3f64",
   "metadata": {},
   "outputs": [
    {
     "name": "stdout",
     "output_type": "stream",
     "text": [
      "(0, 10)\n",
      "(1, 2.3)\n",
      "(2, 'hi')\n",
      "(3, (2, 3))\n",
      "(4, (4, 5))\n"
     ]
    }
   ],
   "source": [
    "for i in enumerate(t6):\n",
    "    print(i)"
   ]
  },
  {
   "cell_type": "markdown",
   "id": "d45b82de-6176-44e6-90dc-1a75e00e1d71",
   "metadata": {},
   "source": [
    "# Tuple membership\n"
   ]
  },
  {
   "cell_type": "code",
   "execution_count": 59,
   "id": "0e660774-6119-458a-85d4-cbedc4c0dab0",
   "metadata": {},
   "outputs": [
    {
     "data": {
      "text/plain": [
       "(10, 1.2, 'hi')"
      ]
     },
     "execution_count": 59,
     "metadata": {},
     "output_type": "execute_result"
    }
   ],
   "source": [
    "t5"
   ]
  },
  {
   "cell_type": "code",
   "execution_count": 60,
   "id": "50d862ae-1ce7-4d03-b0a9-57988d1ece19",
   "metadata": {},
   "outputs": [
    {
     "data": {
      "text/plain": [
       "True"
      ]
     },
     "execution_count": 60,
     "metadata": {},
     "output_type": "execute_result"
    }
   ],
   "source": [
    "1.2 in t5"
   ]
  },
  {
   "cell_type": "code",
   "execution_count": 61,
   "id": "d20410c3-1b47-42a4-b0a7-8f948233ffde",
   "metadata": {},
   "outputs": [
    {
     "data": {
      "text/plain": [
       "False"
      ]
     },
     "execution_count": 61,
     "metadata": {},
     "output_type": "execute_result"
    }
   ],
   "source": [
    "1.3 in t5"
   ]
  },
  {
   "cell_type": "code",
   "execution_count": 63,
   "id": "809b0251-00c9-4950-840e-b708873c88ad",
   "metadata": {},
   "outputs": [
    {
     "name": "stdout",
     "output_type": "stream",
     "text": [
      "hi is present in t5\n"
     ]
    }
   ],
   "source": [
    "if 'hi' in t5:\n",
    "    print('hi is present in t5')\n",
    "else:\n",
    "    print('hi is not present in t5')\n",
    "    "
   ]
  },
  {
   "cell_type": "code",
   "execution_count": 64,
   "id": "1033f1b7-af9f-408e-a297-47441ddd3595",
   "metadata": {},
   "outputs": [
    {
     "name": "stdout",
     "output_type": "stream",
     "text": [
      "hello is not present in t5\n"
     ]
    }
   ],
   "source": [
    "if 'hello' in t5:\n",
    "    print('hello is present in t5')\n",
    "else:\n",
    "    print('hello is not present in t5')"
   ]
  },
  {
   "cell_type": "markdown",
   "id": "bc743408-b4f1-4ef1-946c-23f1811c829f",
   "metadata": {},
   "source": [
    "# Index Position"
   ]
  },
  {
   "cell_type": "code",
   "execution_count": 65,
   "id": "b4b20f70-1ca5-47bb-9d1b-2574484cb30a",
   "metadata": {},
   "outputs": [
    {
     "data": {
      "text/plain": [
       "('one', 'two', 'three', 'four', 'five')"
      ]
     },
     "execution_count": 65,
     "metadata": {},
     "output_type": "execute_result"
    }
   ],
   "source": [
    "tupl=('one','two','three','four','five')\n",
    "tupl"
   ]
  },
  {
   "cell_type": "code",
   "execution_count": 66,
   "id": "efae067c-6329-4413-af47-c911730b1e33",
   "metadata": {},
   "outputs": [
    {
     "data": {
      "text/plain": [
       "1"
      ]
     },
     "execution_count": 66,
     "metadata": {},
     "output_type": "execute_result"
    }
   ],
   "source": [
    "tupl.index('two')"
   ]
  },
  {
   "cell_type": "code",
   "execution_count": 67,
   "id": "1886c392-7ea8-4c61-bc49-95e8c1dfea2e",
   "metadata": {},
   "outputs": [
    {
     "data": {
      "text/plain": [
       "4"
      ]
     },
     "execution_count": 67,
     "metadata": {},
     "output_type": "execute_result"
    }
   ],
   "source": [
    "tupl.index('five')"
   ]
  },
  {
   "cell_type": "code",
   "execution_count": 68,
   "id": "55b604b7-3352-43a2-95e5-6899b732d3a4",
   "metadata": {},
   "outputs": [
    {
     "ename": "ValueError",
     "evalue": "tuple.index(x): x not in tuple",
     "output_type": "error",
     "traceback": [
      "\u001b[1;31m---------------------------------------------------------------------------\u001b[0m",
      "\u001b[1;31mValueError\u001b[0m                                Traceback (most recent call last)",
      "Cell \u001b[1;32mIn[68], line 1\u001b[0m\n\u001b[1;32m----> 1\u001b[0m tupl\u001b[38;5;241m.\u001b[39mindex(\u001b[38;5;124m'\u001b[39m\u001b[38;5;124msix\u001b[39m\u001b[38;5;124m'\u001b[39m)\n",
      "\u001b[1;31mValueError\u001b[0m: tuple.index(x): x not in tuple"
     ]
    }
   ],
   "source": [
    "tupl.index('six')"
   ]
  },
  {
   "cell_type": "code",
   "execution_count": 71,
   "id": "19a7ba1c-9a89-4523-b1ae-1ae6321960fb",
   "metadata": {},
   "outputs": [],
   "source": [
    "tupl1=tupl"
   ]
  },
  {
   "cell_type": "code",
   "execution_count": 72,
   "id": "9c721226-bf21-4b2c-a44e-5653062b7bfc",
   "metadata": {},
   "outputs": [
    {
     "data": {
      "text/plain": [
       "('one', 'two', 'three', 'four', 'five')"
      ]
     },
     "execution_count": 72,
     "metadata": {},
     "output_type": "execute_result"
    }
   ],
   "source": [
    "tupl1"
   ]
  },
  {
   "cell_type": "code",
   "execution_count": 73,
   "id": "382bbb76-4a4f-4c7b-82ab-ae030db1f389",
   "metadata": {},
   "outputs": [
    {
     "data": {
      "text/plain": [
       "3"
      ]
     },
     "execution_count": 73,
     "metadata": {},
     "output_type": "execute_result"
    }
   ],
   "source": [
    "tupl1.index('four')"
   ]
  },
  {
   "cell_type": "markdown",
   "id": "bea9d9fe-0c9f-4241-b32e-d8d3d09fc239",
   "metadata": {},
   "source": [
    "# Sorting"
   ]
  },
  {
   "cell_type": "code",
   "execution_count": 74,
   "id": "7c06f57a-102d-4820-8a6f-0253f243c097",
   "metadata": {},
   "outputs": [
    {
     "data": {
      "text/plain": [
       "('one', 'two', 'three', 'four', 'five')"
      ]
     },
     "execution_count": 74,
     "metadata": {},
     "output_type": "execute_result"
    }
   ],
   "source": [
    "tupl1"
   ]
  },
  {
   "cell_type": "code",
   "execution_count": 92,
   "id": "b540c065-ecb5-4315-bc44-d1ad6875cda8",
   "metadata": {},
   "outputs": [
    {
     "data": {
      "text/plain": [
       "(10, 200, 35, 405, 50)"
      ]
     },
     "execution_count": 92,
     "metadata": {},
     "output_type": "execute_result"
    }
   ],
   "source": [
    "tupl2=(10,200,35,405,50)\n",
    "tupl2"
   ]
  },
  {
   "cell_type": "code",
   "execution_count": 93,
   "id": "440b5b48-091d-445c-abe9-bf48a48e69f7",
   "metadata": {},
   "outputs": [
    {
     "data": {
      "text/plain": [
       "[10, 35, 50, 200, 405]"
      ]
     },
     "execution_count": 93,
     "metadata": {},
     "output_type": "execute_result"
    }
   ],
   "source": [
    "sorted(tupl2) # Ascending order"
   ]
  },
  {
   "cell_type": "code",
   "execution_count": 94,
   "id": "a9c38ea5-f116-4cf7-ba15-ed968ea588d8",
   "metadata": {},
   "outputs": [
    {
     "data": {
      "text/plain": [
       "[405, 200, 50, 35, 10]"
      ]
     },
     "execution_count": 94,
     "metadata": {},
     "output_type": "execute_result"
    }
   ],
   "source": [
    "sorted(tupl2,reverse=True) # Descending order"
   ]
  },
  {
   "cell_type": "code",
   "execution_count": 95,
   "id": "45fab405-5408-40da-a838-2baabbece964",
   "metadata": {},
   "outputs": [
    {
     "data": {
      "text/plain": [
       "[10, 35, 50, 200, 405]"
      ]
     },
     "execution_count": 95,
     "metadata": {},
     "output_type": "execute_result"
    }
   ],
   "source": [
    "sorted(tupl2,reverse=False) # Ascending order"
   ]
  },
  {
   "cell_type": "code",
   "execution_count": 96,
   "id": "a6200b05-7529-4782-a060-40510d685f2c",
   "metadata": {},
   "outputs": [
    {
     "data": {
      "text/plain": [
       "('one', 'two', 'three', 'four', 'five')"
      ]
     },
     "execution_count": 96,
     "metadata": {},
     "output_type": "execute_result"
    }
   ],
   "source": [
    "tupl1"
   ]
  },
  {
   "cell_type": "code",
   "execution_count": 97,
   "id": "3d35dd44-955b-4606-8cd0-8026ac9233fa",
   "metadata": {},
   "outputs": [
    {
     "data": {
      "text/plain": [
       "['five', 'four', 'one', 'three', 'two']"
      ]
     },
     "execution_count": 97,
     "metadata": {},
     "output_type": "execute_result"
    }
   ],
   "source": [
    "sorted(tupl1)"
   ]
  },
  {
   "cell_type": "code",
   "execution_count": 98,
   "id": "26a79bb9-7231-492a-a0ac-0932f342fbae",
   "metadata": {},
   "outputs": [
    {
     "data": {
      "text/plain": [
       "['two', 'three', 'one', 'four', 'five']"
      ]
     },
     "execution_count": 98,
     "metadata": {},
     "output_type": "execute_result"
    }
   ],
   "source": [
    "sorted(tupl1,reverse=True)"
   ]
  },
  {
   "cell_type": "code",
   "execution_count": 99,
   "id": "b00acd13-7233-4d8d-9b1b-33ab6e25500d",
   "metadata": {},
   "outputs": [
    {
     "data": {
      "text/plain": [
       "['five', 'four', 'one', 'three', 'two']"
      ]
     },
     "execution_count": 99,
     "metadata": {},
     "output_type": "execute_result"
    }
   ],
   "source": [
    "sorted(tupl1,reverse=False)"
   ]
  },
  {
   "cell_type": "code",
   "execution_count": null,
   "id": "e180e0d0-2318-4c8f-9e9f-11a3aac12ef1",
   "metadata": {},
   "outputs": [],
   "source": []
  }
 ],
 "metadata": {
  "kernelspec": {
   "display_name": "Python [conda env:base] *",
   "language": "python",
   "name": "conda-base-py"
  },
  "language_info": {
   "codemirror_mode": {
    "name": "ipython",
    "version": 3
   },
   "file_extension": ".py",
   "mimetype": "text/x-python",
   "name": "python",
   "nbconvert_exporter": "python",
   "pygments_lexer": "ipython3",
   "version": "3.12.7"
  }
 },
 "nbformat": 4,
 "nbformat_minor": 5
}
